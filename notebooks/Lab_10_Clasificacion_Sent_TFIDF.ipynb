{
 "cells": [
  {
   "cell_type": "markdown",
   "id": "64517fc2",
   "metadata": {},
   "source": [
    "# Análisis de Sentimientos utilizando Comentarios de Facebook"
   ]
  },
  {
   "cell_type": "markdown",
   "id": "a7d71f0f",
   "metadata": {},
   "source": [
    "## Cargar el archivo\n",
    "Se extrajeron 1,569 comentarios de septiembre y octubre año 2020 en los que se menciona a CitiBanamex"
   ]
  },
  {
   "cell_type": "code",
   "execution_count": 44,
   "id": "68915d24-e5ba-4aba-9917-d50fd9412b20",
   "metadata": {},
   "outputs": [],
   "source": [
    "import pandas as pd\n",
    "import numpy as np\n",
    "import re\n",
    "import matplotlib.pyplot as plt\n",
    "from sklearn.feature_extraction.text import TfidfVectorizer\n",
    "from sklearn.decomposition import TruncatedSVD \n",
    "import string\n",
    "import nltk\n",
    "from nltk.corpus import stopwords\n",
    "#nltk.download('stopwords')\n",
    "#nltk.download('punkt')\n",
    "stop_words_sp = set(stopwords.words('spanish'))"
   ]
  },
  {
   "cell_type": "code",
   "execution_count": 45,
   "id": "44286594",
   "metadata": {},
   "outputs": [
    {
     "data": {
      "text/html": [
       "<div>\n",
       "<style scoped>\n",
       "    .dataframe tbody tr th:only-of-type {\n",
       "        vertical-align: middle;\n",
       "    }\n",
       "\n",
       "    .dataframe tbody tr th {\n",
       "        vertical-align: top;\n",
       "    }\n",
       "\n",
       "    .dataframe thead th {\n",
       "        text-align: right;\n",
       "    }\n",
       "</style>\n",
       "<table border=\"1\" class=\"dataframe\">\n",
       "  <thead>\n",
       "    <tr style=\"text-align: right;\">\n",
       "      <th></th>\n",
       "      <th>pub</th>\n",
       "      <th>usr</th>\n",
       "      <th>likes</th>\n",
       "      <th>com</th>\n",
       "      <th>fec</th>\n",
       "      <th>hor</th>\n",
       "      <th>sent</th>\n",
       "      <th>tag</th>\n",
       "    </tr>\n",
       "  </thead>\n",
       "  <tbody>\n",
       "    <tr>\n",
       "      <th>0</th>\n",
       "      <td>20200805</td>\n",
       "      <td>Dayana Tinajero</td>\n",
       "      <td>18</td>\n",
       "      <td>no inventen, acabo de llamar al call center y ...</td>\n",
       "      <td>6/08/2020</td>\n",
       "      <td>11:37:00</td>\n",
       "      <td>n</td>\n",
       "      <td>seguridad</td>\n",
       "    </tr>\n",
       "    <tr>\n",
       "      <th>1</th>\n",
       "      <td>20200805</td>\n",
       "      <td>Salma Madrid</td>\n",
       "      <td>5</td>\n",
       "      <td>pesimo servicio de call center, contestan con ...</td>\n",
       "      <td>6/08/2020</td>\n",
       "      <td>12:56:00</td>\n",
       "      <td>n</td>\n",
       "      <td>atencion_call</td>\n",
       "    </tr>\n",
       "    <tr>\n",
       "      <th>2</th>\n",
       "      <td>20200805</td>\n",
       "      <td>Dayana Tinajero</td>\n",
       "      <td>3</td>\n",
       "      <td>mejor voy a sucursal, ya no me da confianza na...</td>\n",
       "      <td>6/08/2020</td>\n",
       "      <td>13:20:00</td>\n",
       "      <td>n</td>\n",
       "      <td>seguridad</td>\n",
       "    </tr>\n",
       "    <tr>\n",
       "      <th>3</th>\n",
       "      <td>20200805</td>\n",
       "      <td>Lissy Jimenez</td>\n",
       "      <td>0</td>\n",
       "      <td>citibanamex podrían decirme dónde puedo llamar...</td>\n",
       "      <td>6/08/2020</td>\n",
       "      <td>16:04:00</td>\n",
       "      <td>o</td>\n",
       "      <td>consulta</td>\n",
       "    </tr>\n",
       "    <tr>\n",
       "      <th>4</th>\n",
       "      <td>20200805</td>\n",
       "      <td>Lissy Jimenez</td>\n",
       "      <td>0</td>\n",
       "      <td>citibanamex gracias si me gustaría saber cuand...</td>\n",
       "      <td>6/08/2020</td>\n",
       "      <td>16:23:00</td>\n",
       "      <td>o</td>\n",
       "      <td>consulta</td>\n",
       "    </tr>\n",
       "  </tbody>\n",
       "</table>\n",
       "</div>"
      ],
      "text/plain": [
       "        pub              usr  likes  \\\n",
       "0  20200805  Dayana Tinajero     18   \n",
       "1  20200805     Salma Madrid      5   \n",
       "2  20200805  Dayana Tinajero      3   \n",
       "3  20200805    Lissy Jimenez      0   \n",
       "4  20200805    Lissy Jimenez      0   \n",
       "\n",
       "                                                 com        fec       hor  \\\n",
       "0  no inventen, acabo de llamar al call center y ...  6/08/2020  11:37:00   \n",
       "1  pesimo servicio de call center, contestan con ...  6/08/2020  12:56:00   \n",
       "2  mejor voy a sucursal, ya no me da confianza na...  6/08/2020  13:20:00   \n",
       "3  citibanamex podrían decirme dónde puedo llamar...  6/08/2020  16:04:00   \n",
       "4  citibanamex gracias si me gustaría saber cuand...  6/08/2020  16:23:00   \n",
       "\n",
       "  sent            tag  \n",
       "0    n      seguridad  \n",
       "1    n  atencion_call  \n",
       "2    n      seguridad  \n",
       "3    o       consulta  \n",
       "4    o       consulta  "
      ]
     },
     "execution_count": 45,
     "metadata": {},
     "output_type": "execute_result"
    }
   ],
   "source": [
    "df = pd.read_csv('../data/BanamexFace.csv')\n",
    "df.head()"
   ]
  },
  {
   "cell_type": "code",
   "execution_count": 46,
   "id": "949a5b03-6f36-4229-a3a9-e4e0b5149a6a",
   "metadata": {},
   "outputs": [
    {
     "data": {
      "text/plain": [
       "o    834\n",
       "n    525\n",
       "p    209\n",
       "Name: sent, dtype: int64"
      ]
     },
     "execution_count": 46,
     "metadata": {},
     "output_type": "execute_result"
    }
   ],
   "source": [
    "df.sent.value_counts()"
   ]
  },
  {
   "cell_type": "markdown",
   "id": "71ded9d7",
   "metadata": {},
   "source": [
    "#### Limpieza del texto (puntuación, tokenización y eliminado de stopwords en español)"
   ]
  },
  {
   "cell_type": "code",
   "execution_count": 47,
   "id": "4fb37031",
   "metadata": {},
   "outputs": [],
   "source": [
    "def clean_text(text):\n",
    "    text = \"\".join([word.lower() for word in text if word not in string.punctuation])\n",
    "    tokens = re.split('\\W+', text)\n",
    "    text = [word for word in tokens if word not in stop_words_sp]\n",
    "    return text"
   ]
  },
  {
   "cell_type": "markdown",
   "id": "7dbf8154-0dd7-4ac0-a35a-2abec5d4c999",
   "metadata": {},
   "source": [
    "#### Creamos la Matriz Documento-Término (DTM) con puntuaciones TF-IDF"
   ]
  },
  {
   "cell_type": "code",
   "execution_count": 48,
   "id": "dd05303d-4d84-49e1-87ee-d718dbc41a7a",
   "metadata": {},
   "outputs": [],
   "source": [
    "tfidf_vect = TfidfVectorizer(analyzer=clean_text)\n",
    "X_tfidf = tfidf_vect.fit_transform(df['com'])"
   ]
  },
  {
   "cell_type": "code",
   "execution_count": 49,
   "id": "2e760d37-de57-4e3e-8680-a5e7bf1a511e",
   "metadata": {},
   "outputs": [
    {
     "data": {
      "text/html": [
       "<div>\n",
       "<style scoped>\n",
       "    .dataframe tbody tr th:only-of-type {\n",
       "        vertical-align: middle;\n",
       "    }\n",
       "\n",
       "    .dataframe tbody tr th {\n",
       "        vertical-align: top;\n",
       "    }\n",
       "\n",
       "    .dataframe thead th {\n",
       "        text-align: right;\n",
       "    }\n",
       "</style>\n",
       "<table border=\"1\" class=\"dataframe\">\n",
       "  <thead>\n",
       "    <tr style=\"text-align: right;\">\n",
       "      <th></th>\n",
       "      <th></th>\n",
       "      <th>0</th>\n",
       "      <th>00</th>\n",
       "      <th>000001801410</th>\n",
       "      <th>000001857311</th>\n",
       "      <th>001q</th>\n",
       "      <th>0040</th>\n",
       "      <th>005717</th>\n",
       "      <th>01</th>\n",
       "      <th>01q</th>\n",
       "      <th>...</th>\n",
       "      <th>ñoño</th>\n",
       "      <th>órdenes</th>\n",
       "      <th>ósea</th>\n",
       "      <th>últimamente</th>\n",
       "      <th>último</th>\n",
       "      <th>últimos</th>\n",
       "      <th>única</th>\n",
       "      <th>únicas</th>\n",
       "      <th>único</th>\n",
       "      <th>únicos</th>\n",
       "    </tr>\n",
       "  </thead>\n",
       "  <tbody>\n",
       "    <tr>\n",
       "      <th>0</th>\n",
       "      <td>0.000000</td>\n",
       "      <td>0.0</td>\n",
       "      <td>0.0</td>\n",
       "      <td>0.0</td>\n",
       "      <td>0.0</td>\n",
       "      <td>0.0</td>\n",
       "      <td>0.0</td>\n",
       "      <td>0.0</td>\n",
       "      <td>0.0</td>\n",
       "      <td>0.0</td>\n",
       "      <td>...</td>\n",
       "      <td>0.0</td>\n",
       "      <td>0.0</td>\n",
       "      <td>0.0</td>\n",
       "      <td>0.0</td>\n",
       "      <td>0.0</td>\n",
       "      <td>0.0</td>\n",
       "      <td>0.0</td>\n",
       "      <td>0.0</td>\n",
       "      <td>0.0</td>\n",
       "      <td>0.0</td>\n",
       "    </tr>\n",
       "    <tr>\n",
       "      <th>1</th>\n",
       "      <td>0.149853</td>\n",
       "      <td>0.0</td>\n",
       "      <td>0.0</td>\n",
       "      <td>0.0</td>\n",
       "      <td>0.0</td>\n",
       "      <td>0.0</td>\n",
       "      <td>0.0</td>\n",
       "      <td>0.0</td>\n",
       "      <td>0.0</td>\n",
       "      <td>0.0</td>\n",
       "      <td>...</td>\n",
       "      <td>0.0</td>\n",
       "      <td>0.0</td>\n",
       "      <td>0.0</td>\n",
       "      <td>0.0</td>\n",
       "      <td>0.0</td>\n",
       "      <td>0.0</td>\n",
       "      <td>0.0</td>\n",
       "      <td>0.0</td>\n",
       "      <td>0.0</td>\n",
       "      <td>0.0</td>\n",
       "    </tr>\n",
       "    <tr>\n",
       "      <th>2</th>\n",
       "      <td>0.000000</td>\n",
       "      <td>0.0</td>\n",
       "      <td>0.0</td>\n",
       "      <td>0.0</td>\n",
       "      <td>0.0</td>\n",
       "      <td>0.0</td>\n",
       "      <td>0.0</td>\n",
       "      <td>0.0</td>\n",
       "      <td>0.0</td>\n",
       "      <td>0.0</td>\n",
       "      <td>...</td>\n",
       "      <td>0.0</td>\n",
       "      <td>0.0</td>\n",
       "      <td>0.0</td>\n",
       "      <td>0.0</td>\n",
       "      <td>0.0</td>\n",
       "      <td>0.0</td>\n",
       "      <td>0.0</td>\n",
       "      <td>0.0</td>\n",
       "      <td>0.0</td>\n",
       "      <td>0.0</td>\n",
       "    </tr>\n",
       "    <tr>\n",
       "      <th>3</th>\n",
       "      <td>0.000000</td>\n",
       "      <td>0.0</td>\n",
       "      <td>0.0</td>\n",
       "      <td>0.0</td>\n",
       "      <td>0.0</td>\n",
       "      <td>0.0</td>\n",
       "      <td>0.0</td>\n",
       "      <td>0.0</td>\n",
       "      <td>0.0</td>\n",
       "      <td>0.0</td>\n",
       "      <td>...</td>\n",
       "      <td>0.0</td>\n",
       "      <td>0.0</td>\n",
       "      <td>0.0</td>\n",
       "      <td>0.0</td>\n",
       "      <td>0.0</td>\n",
       "      <td>0.0</td>\n",
       "      <td>0.0</td>\n",
       "      <td>0.0</td>\n",
       "      <td>0.0</td>\n",
       "      <td>0.0</td>\n",
       "    </tr>\n",
       "    <tr>\n",
       "      <th>4</th>\n",
       "      <td>0.000000</td>\n",
       "      <td>0.0</td>\n",
       "      <td>0.0</td>\n",
       "      <td>0.0</td>\n",
       "      <td>0.0</td>\n",
       "      <td>0.0</td>\n",
       "      <td>0.0</td>\n",
       "      <td>0.0</td>\n",
       "      <td>0.0</td>\n",
       "      <td>0.0</td>\n",
       "      <td>...</td>\n",
       "      <td>0.0</td>\n",
       "      <td>0.0</td>\n",
       "      <td>0.0</td>\n",
       "      <td>0.0</td>\n",
       "      <td>0.0</td>\n",
       "      <td>0.0</td>\n",
       "      <td>0.0</td>\n",
       "      <td>0.0</td>\n",
       "      <td>0.0</td>\n",
       "      <td>0.0</td>\n",
       "    </tr>\n",
       "  </tbody>\n",
       "</table>\n",
       "<p>5 rows × 4331 columns</p>\n",
       "</div>"
      ],
      "text/plain": [
       "               0   00  000001801410  000001857311  001q  0040  005717   01  \\\n",
       "0  0.000000  0.0  0.0           0.0           0.0   0.0   0.0     0.0  0.0   \n",
       "1  0.149853  0.0  0.0           0.0           0.0   0.0   0.0     0.0  0.0   \n",
       "2  0.000000  0.0  0.0           0.0           0.0   0.0   0.0     0.0  0.0   \n",
       "3  0.000000  0.0  0.0           0.0           0.0   0.0   0.0     0.0  0.0   \n",
       "4  0.000000  0.0  0.0           0.0           0.0   0.0   0.0     0.0  0.0   \n",
       "\n",
       "   01q  ...  ñoño  órdenes  ósea  últimamente  último  últimos  única  únicas  \\\n",
       "0  0.0  ...   0.0      0.0   0.0          0.0     0.0      0.0    0.0     0.0   \n",
       "1  0.0  ...   0.0      0.0   0.0          0.0     0.0      0.0    0.0     0.0   \n",
       "2  0.0  ...   0.0      0.0   0.0          0.0     0.0      0.0    0.0     0.0   \n",
       "3  0.0  ...   0.0      0.0   0.0          0.0     0.0      0.0    0.0     0.0   \n",
       "4  0.0  ...   0.0      0.0   0.0          0.0     0.0      0.0    0.0     0.0   \n",
       "\n",
       "   único  únicos  \n",
       "0    0.0     0.0  \n",
       "1    0.0     0.0  \n",
       "2    0.0     0.0  \n",
       "3    0.0     0.0  \n",
       "4    0.0     0.0  \n",
       "\n",
       "[5 rows x 4331 columns]"
      ]
     },
     "execution_count": 49,
     "metadata": {},
     "output_type": "execute_result"
    }
   ],
   "source": [
    "X_features = pd.DataFrame(X_tfidf.toarray(), columns=tfidf_vect.get_feature_names())\n",
    "X_features.head()"
   ]
  },
  {
   "cell_type": "code",
   "execution_count": 50,
   "id": "31c057f6-1647-4ffd-bb2c-ce671a1b4502",
   "metadata": {},
   "outputs": [
    {
     "name": "stdout",
     "output_type": "stream",
     "text": [
      "<class 'pandas.core.frame.DataFrame'>\n",
      "RangeIndex: 1568 entries, 0 to 1567\n",
      "Columns: 4331 entries,  to únicos\n",
      "dtypes: float64(4331)\n",
      "memory usage: 51.8 MB\n"
     ]
    }
   ],
   "source": [
    "X_features.info()"
   ]
  },
  {
   "cell_type": "markdown",
   "id": "e0e40fcb-a04e-4e83-8a00-f8bf02da3dd5",
   "metadata": {},
   "source": [
    "#### Removemos las columnas de términos redundantes y los que son poco frecuentes"
   ]
  },
  {
   "cell_type": "code",
   "execution_count": 51,
   "id": "a1550085-4bce-4c2c-a850-a50636db8b92",
   "metadata": {},
   "outputs": [
    {
     "data": {
      "text/html": [
       "<div>\n",
       "<style scoped>\n",
       "    .dataframe tbody tr th:only-of-type {\n",
       "        vertical-align: middle;\n",
       "    }\n",
       "\n",
       "    .dataframe tbody tr th {\n",
       "        vertical-align: top;\n",
       "    }\n",
       "\n",
       "    .dataframe thead th {\n",
       "        text-align: right;\n",
       "    }\n",
       "</style>\n",
       "<table border=\"1\" class=\"dataframe\">\n",
       "  <thead>\n",
       "    <tr style=\"text-align: right;\">\n",
       "      <th></th>\n",
       "      <th>0</th>\n",
       "    </tr>\n",
       "  </thead>\n",
       "  <tbody>\n",
       "    <tr>\n",
       "      <th></th>\n",
       "      <td>36.406436</td>\n",
       "    </tr>\n",
       "    <tr>\n",
       "      <th>0</th>\n",
       "      <td>0.751896</td>\n",
       "    </tr>\n",
       "    <tr>\n",
       "      <th>00</th>\n",
       "      <td>0.682680</td>\n",
       "    </tr>\n",
       "    <tr>\n",
       "      <th>000001801410</th>\n",
       "      <td>0.268676</td>\n",
       "    </tr>\n",
       "    <tr>\n",
       "      <th>000001857311</th>\n",
       "      <td>0.620076</td>\n",
       "    </tr>\n",
       "  </tbody>\n",
       "</table>\n",
       "</div>"
      ],
      "text/plain": [
       "                      0\n",
       "              36.406436\n",
       "0              0.751896\n",
       "00             0.682680\n",
       "000001801410   0.268676\n",
       "000001857311   0.620076"
      ]
     },
     "execution_count": 51,
     "metadata": {},
     "output_type": "execute_result"
    }
   ],
   "source": [
    "column = pd.DataFrame(X_features.sum())\n",
    "column.head()"
   ]
  },
  {
   "cell_type": "code",
   "execution_count": 52,
   "id": "4c4d48e2-8a86-4011-842c-980a6012a722",
   "metadata": {},
   "outputs": [],
   "source": [
    "X_features.drop(columns=['', 'citibanamex', 'abierta', 'abren', 'aclarar', 'alta', 'amado', 'amo', 'anualidaaaaaaaaaaaaad', 'anualidades', 'asco', 'audiomático', 'cajeros', 'cambiar', 'casi', 'cdmx', 'cobrando', 'convenio', 'créditos', 'debito', 'deja', 'desparcializar', 'enviar', 'hizo', 'inbox', 'liquidar', 'llega', 'martinez', 'mínimo', 'paso', 'plática', 'presentación', 'pude', 'puedan', 'quieres', 'quiten', 'regresen', 'responder', 'saludos', 'sola', 'sábado', 'targeta', 'tips', 'toño', 'transferir', 'transmisión', 'unan', 'ventanilla', 'viene', 'x'], inplace=True)"
   ]
  },
  {
   "cell_type": "code",
   "execution_count": 53,
   "id": "74c20397-7b19-4d31-b82e-497b4fdba347",
   "metadata": {},
   "outputs": [],
   "source": [
    "stop = list(column[column[0]<2].index)"
   ]
  },
  {
   "cell_type": "code",
   "execution_count": 54,
   "id": "138784e2-6338-4c80-a671-000f62098929",
   "metadata": {},
   "outputs": [
    {
     "data": {
      "text/plain": [
       "3886"
      ]
     },
     "execution_count": 54,
     "metadata": {},
     "output_type": "execute_result"
    }
   ],
   "source": [
    "len(stop)"
   ]
  },
  {
   "cell_type": "code",
   "execution_count": 55,
   "id": "809f7571-ab6c-4b51-8a8e-903f9b4beb2b",
   "metadata": {},
   "outputs": [],
   "source": [
    "X_features.drop(columns=stop, inplace=True)"
   ]
  },
  {
   "cell_type": "code",
   "execution_count": 56,
   "id": "8ca57fc7-9859-4a03-8e6f-394017a277be",
   "metadata": {},
   "outputs": [
    {
     "name": "stdout",
     "output_type": "stream",
     "text": [
      "<class 'pandas.core.frame.DataFrame'>\n",
      "RangeIndex: 1568 entries, 0 to 1567\n",
      "Columns: 395 entries, 1 to vía\n",
      "dtypes: float64(395)\n",
      "memory usage: 4.7 MB\n"
     ]
    }
   ],
   "source": [
    "X_features.info()"
   ]
  },
  {
   "cell_type": "markdown",
   "id": "e880c7f9-8afb-4021-9cf5-03bb0342f0c9",
   "metadata": {},
   "source": [
    "#### Aplicamos la descomposición SVD para poder trabajar con menos variables (20)"
   ]
  },
  {
   "cell_type": "code",
   "execution_count": 57,
   "id": "0718ce6c-e4ef-4d20-a202-20f4df2f4bc8",
   "metadata": {},
   "outputs": [
    {
     "data": {
      "text/plain": [
       "array([[ 6.55030221e-03,  1.22901372e-01, -2.98777583e-02,\n",
       "         6.06886589e-02, -8.06483028e-02, -3.61852453e-02,\n",
       "        -1.45412396e-02,  6.16875570e-03,  5.00210942e-02,\n",
       "        -2.86536362e-02,  9.43614078e-03, -3.44176344e-03,\n",
       "         9.14240993e-03, -2.78784909e-02,  2.78876059e-04,\n",
       "        -1.72081179e-02, -3.77846780e-02, -7.11666084e-05,\n",
       "         8.71184551e-03,  5.80573102e-03,  2.74970151e-02,\n",
       "        -1.78604941e-02, -1.50724751e-02,  5.33141724e-03,\n",
       "        -9.39213484e-04, -3.37833887e-02,  4.10132190e-02,\n",
       "         6.53265320e-03, -1.80648729e-02, -3.19168263e-02],\n",
       "       [ 4.06549543e-03,  7.78607124e-02, -3.91862782e-02,\n",
       "         1.04816150e-01, -9.87417441e-03,  1.54801059e-01,\n",
       "         3.27816592e-02,  2.48766787e-02, -4.94173098e-02,\n",
       "        -6.42840802e-02, -5.51828660e-02, -7.23429395e-02,\n",
       "         1.99221387e-02,  1.70595402e-02,  1.84685135e-02,\n",
       "         1.49938279e-01, -5.13733935e-02, -6.96928771e-02,\n",
       "        -3.42011878e-02, -3.81419786e-02,  5.09494704e-02,\n",
       "        -4.92521153e-02,  3.48673187e-02,  8.05505631e-02,\n",
       "         3.10668704e-02,  1.52337513e-02, -2.05915353e-02,\n",
       "        -5.42965349e-02, -1.28852034e-01, -9.27040079e-02],\n",
       "       [ 1.60351655e-02,  1.38828387e-01, -5.31913022e-02,\n",
       "         1.33863834e-01, -7.21307128e-03,  6.90255349e-02,\n",
       "        -1.31877195e-03, -1.29075166e-02,  1.98464314e-02,\n",
       "         2.16541459e-01,  4.34516562e-02,  6.19413273e-02,\n",
       "         9.31635906e-02,  8.75045755e-02, -2.18461932e-02,\n",
       "         7.87933248e-02,  2.43643374e-02, -6.50217838e-02,\n",
       "        -2.57019664e-02, -3.08012676e-02, -4.43258975e-02,\n",
       "        -2.15292833e-01, -4.58080483e-02,  1.94445358e-01,\n",
       "        -1.34936792e-01, -1.13662274e-02, -2.57603736e-02,\n",
       "        -5.23379625e-02,  1.25309071e-01, -3.25015995e-02],\n",
       "       [ 7.01802579e-03,  1.59893538e-01, -1.60234413e-02,\n",
       "        -4.95964606e-02,  1.00564643e-02, -1.38933496e-02,\n",
       "        -7.03091010e-03, -5.74254986e-03,  1.39078885e-01,\n",
       "        -1.15468714e-02,  8.84795595e-02,  1.72285830e-03,\n",
       "        -2.74939860e-02, -1.10091865e-01, -1.94888697e-02,\n",
       "         1.51054505e-01,  1.69603752e-01,  2.07256212e-02,\n",
       "         8.87767899e-04,  1.09455211e-02, -1.43123691e-02,\n",
       "        -1.11066044e-01, -5.68611602e-02,  1.21815931e-01,\n",
       "        -1.17581695e-01,  2.62012249e-02, -6.60604221e-02,\n",
       "        -3.58151230e-02,  6.40018696e-02, -6.19136459e-03],\n",
       "       [ 1.53541638e-01,  1.34458568e-01, -2.91931887e-02,\n",
       "         6.29845640e-02, -9.83718633e-02, -5.14936572e-02,\n",
       "        -5.84487775e-02, -3.85519785e-02,  1.67667689e-02,\n",
       "         1.63387166e-02,  2.64119233e-02,  8.30273974e-02,\n",
       "         1.34668390e-02,  5.25862127e-02, -9.45145946e-02,\n",
       "        -1.46399164e-02,  7.25166033e-02, -5.16392528e-02,\n",
       "        -1.09233427e-02, -5.29134029e-02, -7.38135710e-02,\n",
       "        -1.80592798e-01, -4.38864611e-02,  1.46526936e-01,\n",
       "        -1.09798559e-01,  2.59247709e-03, -4.60015939e-02,\n",
       "        -2.43917197e-02,  1.17942882e-01, -2.71286276e-02],\n",
       "       [ 2.02655916e-03,  6.86767036e-02, -4.38965817e-03,\n",
       "        -7.23354313e-02,  4.44528423e-02, -2.70203593e-03,\n",
       "         3.78727457e-03, -2.90575306e-02, -3.77854144e-02,\n",
       "         9.15068155e-03, -3.46144358e-02, -9.78468414e-03,\n",
       "         7.49761362e-03, -9.14706915e-03, -1.03800582e-03,\n",
       "        -1.97463907e-03,  3.55657834e-03, -5.00256491e-03,\n",
       "         3.03725931e-02,  9.06636801e-03, -3.37286549e-02,\n",
       "         2.21262937e-04,  1.52326719e-02, -4.80235284e-03,\n",
       "         2.39915864e-02,  1.75771963e-04,  4.17757218e-03,\n",
       "         7.96500036e-03, -6.01239444e-03,  1.06970060e-02],\n",
       "       [ 9.62633034e-04,  1.68141725e-02, -5.81954347e-03,\n",
       "         4.50489688e-03,  2.59313758e-04,  4.81565316e-03,\n",
       "         1.33861239e-03,  1.60817149e-03,  8.03700537e-03,\n",
       "         3.19049911e-03,  2.73839263e-03,  3.10604591e-03,\n",
       "         9.59976642e-03, -4.08297954e-03, -1.46787574e-02,\n",
       "        -5.74961584e-03, -8.28936546e-04,  1.20073388e-02,\n",
       "        -2.18225908e-03, -8.93026464e-03, -1.00996460e-02,\n",
       "         5.00141312e-03, -4.93062664e-03,  4.44926362e-03,\n",
       "         9.20399232e-03,  6.19500983e-03,  1.99311982e-02,\n",
       "         2.26315030e-03, -9.56628093e-03,  4.47785890e-03],\n",
       "       [ 1.72278706e-03,  3.66122836e-02, -8.42263823e-03,\n",
       "         9.13985011e-05,  3.47767351e-03,  3.15275550e-03,\n",
       "        -2.26364297e-03, -3.19865078e-03,  1.29156715e-02,\n",
       "         5.62783655e-03,  8.35674486e-03,  1.02607471e-03,\n",
       "         1.89418227e-02, -1.20125253e-02, -1.96324001e-02,\n",
       "        -6.82892452e-03,  5.12777419e-04,  2.00755434e-02,\n",
       "        -1.33950682e-02, -9.04476471e-04, -3.68553864e-02,\n",
       "        -1.54634454e-02,  1.12834807e-02,  7.86823892e-03,\n",
       "         3.22562505e-02,  1.78049404e-03,  4.14607677e-02,\n",
       "         5.57715947e-03, -5.63448156e-03,  1.17476210e-03],\n",
       "       [ 9.38816540e-03,  1.60352908e-01, -3.48332620e-02,\n",
       "         8.80432108e-02, -2.45377854e-02,  1.19065894e-01,\n",
       "         2.60329861e-02, -3.67052807e-02, -1.66412738e-02,\n",
       "        -7.80313119e-02,  1.08352327e-03,  9.78754135e-02,\n",
       "        -1.02148771e-03,  3.73698287e-02, -6.41972952e-02,\n",
       "        -2.92573944e-02,  7.10183962e-02, -1.19189748e-02,\n",
       "        -7.67532502e-02,  6.04749479e-02,  3.06844102e-02,\n",
       "        -6.51515749e-02,  5.25233458e-02, -6.20098579e-02,\n",
       "        -9.88542473e-03,  8.16820212e-02,  4.06233874e-02,\n",
       "         8.58772575e-02,  4.99129802e-02,  1.09814054e-02],\n",
       "       [ 2.21756954e-03,  2.38979608e-02, -2.56981516e-03,\n",
       "         1.77365966e-02, -2.69267850e-02, -1.33452524e-02,\n",
       "        -3.11310863e-03, -1.76000247e-02,  1.18257687e-02,\n",
       "        -1.41217787e-02, -2.50519120e-03,  4.72274596e-02,\n",
       "        -3.27106695e-02,  5.17543685e-03,  1.96537702e-02,\n",
       "        -1.43042557e-02,  2.78804189e-02, -3.64295905e-02,\n",
       "         4.85030921e-02, -5.27609065e-02,  3.32718547e-02,\n",
       "        -7.57448846e-03, -3.00903743e-02,  2.02060552e-02,\n",
       "        -3.02003528e-02,  6.30805674e-03, -2.51639854e-03,\n",
       "        -2.88051332e-03, -2.60922758e-02, -6.89000348e-02]])"
      ]
     },
     "execution_count": 57,
     "metadata": {},
     "output_type": "execute_result"
    }
   ],
   "source": [
    "truncatedSVD=TruncatedSVD(30)\n",
    "X_svd = truncatedSVD.fit_transform(X_features)\n",
    "X_svd[:10] "
   ]
  },
  {
   "cell_type": "markdown",
   "id": "f676da78-f01e-4c1d-929b-a359f164f19c",
   "metadata": {},
   "source": [
    "#### Creamos un Clasificador de Comentarios utilizando RandomForest"
   ]
  },
  {
   "cell_type": "code",
   "execution_count": 58,
   "id": "3d4f384d-cdf1-454b-91d6-e74101f3cbcd",
   "metadata": {},
   "outputs": [],
   "source": [
    "from sklearn.ensemble import RandomForestClassifier\n",
    "from sklearn.metrics import confusion_matrix, accuracy_score, precision_score, recall_score\n",
    "from sklearn.model_selection import train_test_split"
   ]
  },
  {
   "cell_type": "markdown",
   "id": "da112ffc-4a5a-49ad-960c-94527aa75041",
   "metadata": {},
   "source": [
    "Particionamos las muestras"
   ]
  },
  {
   "cell_type": "code",
   "execution_count": 59,
   "id": "3dee7df8-9bc5-4d7c-8af7-a1f4f7171595",
   "metadata": {},
   "outputs": [],
   "source": [
    "X_train, X_test, y_train, y_test = train_test_split(X_svd,\n",
    "                                                    df['sent'],\n",
    "                                                    test_size=0.2)"
   ]
  },
  {
   "cell_type": "markdown",
   "id": "9ad8cb74-a350-43b0-ad22-74e2d7d65681",
   "metadata": {},
   "source": [
    "Entrenamos el modelo y generamos las predicciones sobre la muestra de evaluación"
   ]
  },
  {
   "cell_type": "code",
   "execution_count": 60,
   "id": "4aa68566-b233-4a09-9a68-5fcf43a6c00c",
   "metadata": {},
   "outputs": [],
   "source": [
    "rf = RandomForestClassifier()\n",
    "rf_model = rf.fit(X_train, y_train)\n",
    "y_pred = rf_model.predict(X_test)"
   ]
  },
  {
   "cell_type": "markdown",
   "id": "3eaeb02d-96b6-42f6-9172-51a8eceb419e",
   "metadata": {},
   "source": [
    "#### Métricas de Diagnóstico"
   ]
  },
  {
   "cell_type": "code",
   "execution_count": 61,
   "id": "e38aa62b-229e-4ae5-84b0-45ae19345a3c",
   "metadata": {},
   "outputs": [
    {
     "name": "stdout",
     "output_type": "stream",
     "text": [
      "Matriz de Confusión:\n"
     ]
    },
    {
     "data": {
      "text/plain": [
       "array([[ 71,  33,   1],\n",
       "       [ 22, 143,   5],\n",
       "       [  2,   8,  29]], dtype=int64)"
      ]
     },
     "execution_count": 61,
     "metadata": {},
     "output_type": "execute_result"
    }
   ],
   "source": [
    "print('Matriz de Confusión:')\n",
    "confusion_matrix(y_test, y_pred)"
   ]
  },
  {
   "cell_type": "code",
   "execution_count": 62,
   "id": "05adf340-8c80-4c0a-a72d-c4417cf913d0",
   "metadata": {},
   "outputs": [
    {
     "name": "stdout",
     "output_type": "stream",
     "text": [
      "Accuracy: 77.39%\n",
      "Precision: 77.36%\n",
      "Recall: 77.39%\n"
     ]
    }
   ],
   "source": [
    "print('Accuracy: %.2f%%' %(accuracy_score(y_test, y_pred)*100))  \n",
    "print('Precision: %.2f%%' % (precision_score(y_test, y_pred, average= 'weighted')*100))\n",
    "print('Recall: %.2f%%' % (recall_score(y_test, y_pred, average= 'weighted')*100))"
   ]
  },
  {
   "cell_type": "markdown",
   "id": "c7733356-64d8-4a71-a7f4-d31633ef553b",
   "metadata": {},
   "source": [
    "#### También podemos probar con un modelo Naive Bayes Gausiano"
   ]
  },
  {
   "cell_type": "code",
   "execution_count": 63,
   "id": "af85ac89-2865-4f31-b337-95cdda3b33bb",
   "metadata": {},
   "outputs": [],
   "source": [
    "from sklearn.naive_bayes import GaussianNB"
   ]
  },
  {
   "cell_type": "code",
   "execution_count": 64,
   "id": "48d96c67-1c4c-4d1e-b1c8-4ea14d9a668d",
   "metadata": {},
   "outputs": [],
   "source": [
    "nb = GaussianNB(priors=None)\n",
    "nb_model = nb.fit(X_train, y_train)\n",
    "y_pred = nb_model.predict(X_test)"
   ]
  },
  {
   "cell_type": "code",
   "execution_count": 65,
   "id": "eb869637-6086-4b09-a485-ede002e18fb0",
   "metadata": {},
   "outputs": [
    {
     "name": "stdout",
     "output_type": "stream",
     "text": [
      "Matriz de Confusión:\n"
     ]
    },
    {
     "data": {
      "text/plain": [
       "array([[79, 22,  4],\n",
       "       [66, 97,  7],\n",
       "       [ 2,  7, 30]], dtype=int64)"
      ]
     },
     "execution_count": 65,
     "metadata": {},
     "output_type": "execute_result"
    }
   ],
   "source": [
    "print('Matriz de Confusión:')\n",
    "confusion_matrix(y_test, y_pred)"
   ]
  },
  {
   "cell_type": "code",
   "execution_count": 66,
   "id": "c8a799ac-110e-4f8f-93a2-b824ea480a7f",
   "metadata": {},
   "outputs": [
    {
     "name": "stdout",
     "output_type": "stream",
     "text": [
      "Accuracy: 65.61%\n",
      "Precision: 68.74%\n",
      "Recall: 65.61%\n"
     ]
    }
   ],
   "source": [
    "print('Accuracy: %.2f%%' %(accuracy_score(y_test, y_pred)*100))  \n",
    "print('Precision: %.2f%%' % (precision_score(y_test, y_pred, average= 'weighted')*100))\n",
    "print('Recall: %.2f%%' % (recall_score(y_test, y_pred, average= 'weighted')*100))"
   ]
  },
  {
   "cell_type": "markdown",
   "id": "70a347b3",
   "metadata": {},
   "source": [
    "#### Ahora podemos implementar el mejor modelo, utilizando el otro conjunto de datos"
   ]
  },
  {
   "cell_type": "code",
   "execution_count": 67,
   "id": "83920e28",
   "metadata": {},
   "outputs": [
    {
     "data": {
      "text/html": [
       "<div>\n",
       "<style scoped>\n",
       "    .dataframe tbody tr th:only-of-type {\n",
       "        vertical-align: middle;\n",
       "    }\n",
       "\n",
       "    .dataframe tbody tr th {\n",
       "        vertical-align: top;\n",
       "    }\n",
       "\n",
       "    .dataframe thead th {\n",
       "        text-align: right;\n",
       "    }\n",
       "</style>\n",
       "<table border=\"1\" class=\"dataframe\">\n",
       "  <thead>\n",
       "    <tr style=\"text-align: right;\">\n",
       "      <th></th>\n",
       "      <th>pub</th>\n",
       "      <th>usr</th>\n",
       "      <th>likes</th>\n",
       "      <th>com</th>\n",
       "      <th>fec</th>\n",
       "      <th>hor</th>\n",
       "    </tr>\n",
       "  </thead>\n",
       "  <tbody>\n",
       "    <tr>\n",
       "      <th>0</th>\n",
       "      <td>20200918</td>\n",
       "      <td>Martin Bernal</td>\n",
       "      <td>0</td>\n",
       "      <td>Desde el día 27 de agosto solicité reposición ...</td>\n",
       "      <td>20/09/2020</td>\n",
       "      <td>13:20:00</td>\n",
       "    </tr>\n",
       "    <tr>\n",
       "      <th>1</th>\n",
       "      <td>20200918</td>\n",
       "      <td>Irma Treviño</td>\n",
       "      <td>0</td>\n",
       "      <td>Como localizo mi reposicion de tarjeta citiban...</td>\n",
       "      <td>20/09/2020</td>\n",
       "      <td>10:36:00</td>\n",
       "    </tr>\n",
       "    <tr>\n",
       "      <th>2</th>\n",
       "      <td>20200918</td>\n",
       "      <td>Francisco León</td>\n",
       "      <td>0</td>\n",
       "      <td>Citibanamex, no me respetaron la promoción del...</td>\n",
       "      <td>20/09/2020</td>\n",
       "      <td>10:20:00</td>\n",
       "    </tr>\n",
       "    <tr>\n",
       "      <th>3</th>\n",
       "      <td>20200918</td>\n",
       "      <td>Manolo Ruiz Farrera</td>\n",
       "      <td>0</td>\n",
       "      <td>Muchísimas gracias citibanamex</td>\n",
       "      <td>20/09/2020</td>\n",
       "      <td>09:57:00</td>\n",
       "    </tr>\n",
       "    <tr>\n",
       "      <th>4</th>\n",
       "      <td>20200918</td>\n",
       "      <td>Iv San Roman De Proudinat</td>\n",
       "      <td>0</td>\n",
       "      <td>Mil gracias por esta platica</td>\n",
       "      <td>20/09/2020</td>\n",
       "      <td>07:28:00</td>\n",
       "    </tr>\n",
       "  </tbody>\n",
       "</table>\n",
       "</div>"
      ],
      "text/plain": [
       "        pub                        usr  likes  \\\n",
       "0  20200918              Martin Bernal      0   \n",
       "1  20200918               Irma Treviño      0   \n",
       "2  20200918             Francisco León      0   \n",
       "3  20200918        Manolo Ruiz Farrera      0   \n",
       "4  20200918  Iv San Roman De Proudinat      0   \n",
       "\n",
       "                                                 com         fec       hor  \n",
       "0  Desde el día 27 de agosto solicité reposición ...  20/09/2020  13:20:00  \n",
       "1  Como localizo mi reposicion de tarjeta citiban...  20/09/2020  10:36:00  \n",
       "2  Citibanamex, no me respetaron la promoción del...  20/09/2020  10:20:00  \n",
       "3                     Muchísimas gracias citibanamex  20/09/2020  09:57:00  \n",
       "4                       Mil gracias por esta platica  20/09/2020  07:28:00  "
      ]
     },
     "execution_count": 67,
     "metadata": {},
     "output_type": "execute_result"
    }
   ],
   "source": [
    "dfs = pd.read_csv('../data/BanamexFaceNew.csv')\n",
    "dfs.head()"
   ]
  },
  {
   "cell_type": "markdown",
   "id": "c97e9afe",
   "metadata": {},
   "source": [
    "Preparar los datos para el scoring"
   ]
  },
  {
   "cell_type": "code",
   "execution_count": 68,
   "id": "683ceeb2",
   "metadata": {},
   "outputs": [],
   "source": [
    "tfidf_vect = TfidfVectorizer(analyzer=clean_text)\n",
    "S_tfidf = tfidf_vect.fit_transform(dfs['com'])"
   ]
  },
  {
   "cell_type": "code",
   "execution_count": 69,
   "id": "d36ae6a0",
   "metadata": {},
   "outputs": [
    {
     "name": "stdout",
     "output_type": "stream",
     "text": [
      "<class 'pandas.core.frame.DataFrame'>\n",
      "RangeIndex: 361 entries, 0 to 360\n",
      "Columns: 395 entries, 1 to vía\n",
      "dtypes: float64(395)\n",
      "memory usage: 1.1 MB\n"
     ]
    }
   ],
   "source": [
    "S_features = pd.DataFrame(S_tfidf.toarray(), columns=tfidf_vect.get_feature_names())\n",
    "S_features = S_features[X_features.columns]\n",
    "S_features.info()"
   ]
  },
  {
   "cell_type": "code",
   "execution_count": 70,
   "id": "8bee441f-3ee4-4c3f-add8-64bb076d805b",
   "metadata": {},
   "outputs": [],
   "source": [
    "XS_svd = truncatedSVD.fit_transform(S_features)"
   ]
  },
  {
   "cell_type": "markdown",
   "id": "b8e2239e-d7cd-4730-95d6-7f89a227a6bb",
   "metadata": {},
   "source": [
    "Aplicamos el modelo"
   ]
  },
  {
   "cell_type": "code",
   "execution_count": 71,
   "id": "726ad9ff-325d-49f8-bf6f-aca6ee9559d4",
   "metadata": {},
   "outputs": [
    {
     "data": {
      "text/html": [
       "<div>\n",
       "<style scoped>\n",
       "    .dataframe tbody tr th:only-of-type {\n",
       "        vertical-align: middle;\n",
       "    }\n",
       "\n",
       "    .dataframe tbody tr th {\n",
       "        vertical-align: top;\n",
       "    }\n",
       "\n",
       "    .dataframe thead th {\n",
       "        text-align: right;\n",
       "    }\n",
       "</style>\n",
       "<table border=\"1\" class=\"dataframe\">\n",
       "  <thead>\n",
       "    <tr style=\"text-align: right;\">\n",
       "      <th></th>\n",
       "      <th>pub</th>\n",
       "      <th>usr</th>\n",
       "      <th>likes</th>\n",
       "      <th>com</th>\n",
       "      <th>fec</th>\n",
       "      <th>hor</th>\n",
       "      <th>sent_model</th>\n",
       "    </tr>\n",
       "  </thead>\n",
       "  <tbody>\n",
       "    <tr>\n",
       "      <th>0</th>\n",
       "      <td>20200918</td>\n",
       "      <td>Martin Bernal</td>\n",
       "      <td>0</td>\n",
       "      <td>Desde el día 27 de agosto solicité reposición ...</td>\n",
       "      <td>20/09/2020</td>\n",
       "      <td>13:20:00</td>\n",
       "      <td>n</td>\n",
       "    </tr>\n",
       "    <tr>\n",
       "      <th>1</th>\n",
       "      <td>20200918</td>\n",
       "      <td>Irma Treviño</td>\n",
       "      <td>0</td>\n",
       "      <td>Como localizo mi reposicion de tarjeta citiban...</td>\n",
       "      <td>20/09/2020</td>\n",
       "      <td>10:36:00</td>\n",
       "      <td>o</td>\n",
       "    </tr>\n",
       "    <tr>\n",
       "      <th>2</th>\n",
       "      <td>20200918</td>\n",
       "      <td>Francisco León</td>\n",
       "      <td>0</td>\n",
       "      <td>Citibanamex, no me respetaron la promoción del...</td>\n",
       "      <td>20/09/2020</td>\n",
       "      <td>10:20:00</td>\n",
       "      <td>o</td>\n",
       "    </tr>\n",
       "    <tr>\n",
       "      <th>3</th>\n",
       "      <td>20200918</td>\n",
       "      <td>Manolo Ruiz Farrera</td>\n",
       "      <td>0</td>\n",
       "      <td>Muchísimas gracias citibanamex</td>\n",
       "      <td>20/09/2020</td>\n",
       "      <td>09:57:00</td>\n",
       "      <td>p</td>\n",
       "    </tr>\n",
       "    <tr>\n",
       "      <th>4</th>\n",
       "      <td>20200918</td>\n",
       "      <td>Iv San Roman De Proudinat</td>\n",
       "      <td>0</td>\n",
       "      <td>Mil gracias por esta platica</td>\n",
       "      <td>20/09/2020</td>\n",
       "      <td>07:28:00</td>\n",
       "      <td>p</td>\n",
       "    </tr>\n",
       "    <tr>\n",
       "      <th>5</th>\n",
       "      <td>20200918</td>\n",
       "      <td>Oscar Javier Aguilar</td>\n",
       "      <td>0</td>\n",
       "      <td>Necesito ayuda recibí una invitación para una ...</td>\n",
       "      <td>18/09/2020</td>\n",
       "      <td>09:52:00</td>\n",
       "      <td>n</td>\n",
       "    </tr>\n",
       "    <tr>\n",
       "      <th>6</th>\n",
       "      <td>20200918</td>\n",
       "      <td>Oscar Javier Aguilar</td>\n",
       "      <td>0</td>\n",
       "      <td>Citibanamex si, me dieron el apoyo por 4 meses...</td>\n",
       "      <td>18/09/2020</td>\n",
       "      <td>10:27:00</td>\n",
       "      <td>n</td>\n",
       "    </tr>\n",
       "    <tr>\n",
       "      <th>7</th>\n",
       "      <td>20200918</td>\n",
       "      <td>Oscar Javier Aguilar</td>\n",
       "      <td>0</td>\n",
       "      <td>Citibanamex Citibanamex si lo hice en linea, y...</td>\n",
       "      <td>18/09/2020</td>\n",
       "      <td>11:13:00</td>\n",
       "      <td>n</td>\n",
       "    </tr>\n",
       "    <tr>\n",
       "      <th>8</th>\n",
       "      <td>20200918</td>\n",
       "      <td>Oscar Javier Aguilar</td>\n",
       "      <td>0</td>\n",
       "      <td>Citibanamex necesitas mi numero de folio ?</td>\n",
       "      <td>18/09/2020</td>\n",
       "      <td>11:36:00</td>\n",
       "      <td>o</td>\n",
       "    </tr>\n",
       "    <tr>\n",
       "      <th>9</th>\n",
       "      <td>20200918</td>\n",
       "      <td>Oscar Javier Aguilar</td>\n",
       "      <td>0</td>\n",
       "      <td>Citibanamex No,  para darle seguimiento a la e...</td>\n",
       "      <td>18/09/2020</td>\n",
       "      <td>13:50:00</td>\n",
       "      <td>o</td>\n",
       "    </tr>\n",
       "    <tr>\n",
       "      <th>10</th>\n",
       "      <td>20200918</td>\n",
       "      <td>Oscar Javier Aguilar</td>\n",
       "      <td>0</td>\n",
       "      <td>Citibanamex igual deAquí a q reciba mi correo ...</td>\n",
       "      <td>18/09/2020</td>\n",
       "      <td>14:04:00</td>\n",
       "      <td>n</td>\n",
       "    </tr>\n",
       "    <tr>\n",
       "      <th>11</th>\n",
       "      <td>20200918</td>\n",
       "      <td>Oscar Javier Aguilar</td>\n",
       "      <td>0</td>\n",
       "      <td>Justo cuando parecía que llegaría a alguna sol...</td>\n",
       "      <td>18/09/2020</td>\n",
       "      <td>14:07:00</td>\n",
       "      <td>o</td>\n",
       "    </tr>\n",
       "    <tr>\n",
       "      <th>12</th>\n",
       "      <td>20200918</td>\n",
       "      <td>Gerardo T Galvan</td>\n",
       "      <td>0</td>\n",
       "      <td>Oscar a mi hasta me marcaron y todo sigue igua...</td>\n",
       "      <td>19/09/2020</td>\n",
       "      <td>19:10:00</td>\n",
       "      <td>o</td>\n",
       "    </tr>\n",
       "    <tr>\n",
       "      <th>13</th>\n",
       "      <td>20200918</td>\n",
       "      <td>Gerardo T Galvan</td>\n",
       "      <td>0</td>\n",
       "      <td>Citibanamex lo misma situación de Oscar, marca...</td>\n",
       "      <td>19/09/2020</td>\n",
       "      <td>19:17:00</td>\n",
       "      <td>o</td>\n",
       "    </tr>\n",
       "    <tr>\n",
       "      <th>14</th>\n",
       "      <td>20200918</td>\n",
       "      <td>Oscar Javier Aguilar</td>\n",
       "      <td>0</td>\n",
       "      <td>Gerardo T Galvan lastima; aunque claro q agrad...</td>\n",
       "      <td>19/09/2020</td>\n",
       "      <td>19:55:00</td>\n",
       "      <td>o</td>\n",
       "    </tr>\n",
       "    <tr>\n",
       "      <th>15</th>\n",
       "      <td>20200918</td>\n",
       "      <td>Hilda D Hernandez Linda Herrera</td>\n",
       "      <td>0</td>\n",
       "      <td>Tengo 20 años con banamex. Y estoy tan arrepen...</td>\n",
       "      <td>18/09/2020</td>\n",
       "      <td>18:02:00</td>\n",
       "      <td>o</td>\n",
       "    </tr>\n",
       "    <tr>\n",
       "      <th>16</th>\n",
       "      <td>20200918</td>\n",
       "      <td>Hilda D Hernandez Linda Herrera</td>\n",
       "      <td>0</td>\n",
       "      <td>Citibanamex gracias</td>\n",
       "      <td>18/09/2020</td>\n",
       "      <td>18:24:00</td>\n",
       "      <td>p</td>\n",
       "    </tr>\n",
       "    <tr>\n",
       "      <th>17</th>\n",
       "      <td>20200918</td>\n",
       "      <td>Angelica Sanchez</td>\n",
       "      <td>0</td>\n",
       "      <td>Yo voy a hacer lo mismo, nunca atienden pero q...</td>\n",
       "      <td>19/09/2020</td>\n",
       "      <td>07:00:00</td>\n",
       "      <td>o</td>\n",
       "    </tr>\n",
       "    <tr>\n",
       "      <th>18</th>\n",
       "      <td>20200918</td>\n",
       "      <td>Maru Scougall Martínez</td>\n",
       "      <td>0</td>\n",
       "      <td>Hilda D Hernandez Linda Herrera Tu tienes 20 a...</td>\n",
       "      <td>19/09/2020</td>\n",
       "      <td>08:00:00</td>\n",
       "      <td>o</td>\n",
       "    </tr>\n",
       "    <tr>\n",
       "      <th>19</th>\n",
       "      <td>20200918</td>\n",
       "      <td>Hilda D Hernandez Linda Herrera</td>\n",
       "      <td>0</td>\n",
       "      <td>Maru Scougall Martínez con todo respeto, solo ...</td>\n",
       "      <td>19/09/2020</td>\n",
       "      <td>08:48:00</td>\n",
       "      <td>o</td>\n",
       "    </tr>\n",
       "  </tbody>\n",
       "</table>\n",
       "</div>"
      ],
      "text/plain": [
       "         pub                              usr  likes  \\\n",
       "0   20200918                    Martin Bernal      0   \n",
       "1   20200918                     Irma Treviño      0   \n",
       "2   20200918                   Francisco León      0   \n",
       "3   20200918              Manolo Ruiz Farrera      0   \n",
       "4   20200918        Iv San Roman De Proudinat      0   \n",
       "5   20200918             Oscar Javier Aguilar      0   \n",
       "6   20200918             Oscar Javier Aguilar      0   \n",
       "7   20200918             Oscar Javier Aguilar      0   \n",
       "8   20200918             Oscar Javier Aguilar      0   \n",
       "9   20200918             Oscar Javier Aguilar      0   \n",
       "10  20200918             Oscar Javier Aguilar      0   \n",
       "11  20200918             Oscar Javier Aguilar      0   \n",
       "12  20200918                 Gerardo T Galvan      0   \n",
       "13  20200918                 Gerardo T Galvan      0   \n",
       "14  20200918             Oscar Javier Aguilar      0   \n",
       "15  20200918  Hilda D Hernandez Linda Herrera      0   \n",
       "16  20200918  Hilda D Hernandez Linda Herrera      0   \n",
       "17  20200918                 Angelica Sanchez      0   \n",
       "18  20200918           Maru Scougall Martínez      0   \n",
       "19  20200918  Hilda D Hernandez Linda Herrera      0   \n",
       "\n",
       "                                                  com         fec       hor  \\\n",
       "0   Desde el día 27 de agosto solicité reposición ...  20/09/2020  13:20:00   \n",
       "1   Como localizo mi reposicion de tarjeta citiban...  20/09/2020  10:36:00   \n",
       "2   Citibanamex, no me respetaron la promoción del...  20/09/2020  10:20:00   \n",
       "3                      Muchísimas gracias citibanamex  20/09/2020  09:57:00   \n",
       "4                        Mil gracias por esta platica  20/09/2020  07:28:00   \n",
       "5   Necesito ayuda recibí una invitación para una ...  18/09/2020  09:52:00   \n",
       "6   Citibanamex si, me dieron el apoyo por 4 meses...  18/09/2020  10:27:00   \n",
       "7   Citibanamex Citibanamex si lo hice en linea, y...  18/09/2020  11:13:00   \n",
       "8          Citibanamex necesitas mi numero de folio ?  18/09/2020  11:36:00   \n",
       "9   Citibanamex No,  para darle seguimiento a la e...  18/09/2020  13:50:00   \n",
       "10  Citibanamex igual deAquí a q reciba mi correo ...  18/09/2020  14:04:00   \n",
       "11  Justo cuando parecía que llegaría a alguna sol...  18/09/2020  14:07:00   \n",
       "12  Oscar a mi hasta me marcaron y todo sigue igua...  19/09/2020  19:10:00   \n",
       "13  Citibanamex lo misma situación de Oscar, marca...  19/09/2020  19:17:00   \n",
       "14  Gerardo T Galvan lastima; aunque claro q agrad...  19/09/2020  19:55:00   \n",
       "15  Tengo 20 años con banamex. Y estoy tan arrepen...  18/09/2020  18:02:00   \n",
       "16                                Citibanamex gracias  18/09/2020  18:24:00   \n",
       "17  Yo voy a hacer lo mismo, nunca atienden pero q...  19/09/2020  07:00:00   \n",
       "18  Hilda D Hernandez Linda Herrera Tu tienes 20 a...  19/09/2020  08:00:00   \n",
       "19  Maru Scougall Martínez con todo respeto, solo ...  19/09/2020  08:48:00   \n",
       "\n",
       "   sent_model  \n",
       "0           n  \n",
       "1           o  \n",
       "2           o  \n",
       "3           p  \n",
       "4           p  \n",
       "5           n  \n",
       "6           n  \n",
       "7           n  \n",
       "8           o  \n",
       "9           o  \n",
       "10          n  \n",
       "11          o  \n",
       "12          o  \n",
       "13          o  \n",
       "14          o  \n",
       "15          o  \n",
       "16          p  \n",
       "17          o  \n",
       "18          o  \n",
       "19          o  "
      ]
     },
     "execution_count": 71,
     "metadata": {},
     "output_type": "execute_result"
    }
   ],
   "source": [
    "y_score = rf_model.predict(XS_svd)\n",
    "dfs['sent_model'] = y_score\n",
    "dfs.head(20)"
   ]
  },
  {
   "cell_type": "markdown",
   "id": "0bae14b6",
   "metadata": {},
   "source": [
    "Elaborado por Luis Cajachahua bajo licencia MIT (2022)"
   ]
  }
 ],
 "metadata": {
  "kernelspec": {
   "display_name": "Python 3 (ipykernel)",
   "language": "python",
   "name": "python3"
  },
  "language_info": {
   "codemirror_mode": {
    "name": "ipython",
    "version": 3
   },
   "file_extension": ".py",
   "mimetype": "text/x-python",
   "name": "python",
   "nbconvert_exporter": "python",
   "pygments_lexer": "ipython3",
   "version": "3.9.7"
  }
 },
 "nbformat": 4,
 "nbformat_minor": 5
}
