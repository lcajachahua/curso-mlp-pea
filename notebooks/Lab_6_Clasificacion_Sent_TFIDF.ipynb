{
 "cells": [
  {
   "cell_type": "markdown",
   "id": "64517fc2",
   "metadata": {},
   "source": [
    "# Análisis de Sentimientos utilizando Comentarios de Facebook"
   ]
  },
  {
   "cell_type": "markdown",
   "id": "a7d71f0f",
   "metadata": {},
   "source": [
    "## Cargar el archivo\n",
    "Se extrajeron 1,569 comentarios de septiembre y octubre año 2020 en los que se menciona a CitiBanamex"
   ]
  },
  {
   "cell_type": "code",
   "execution_count": null,
   "id": "68915d24-e5ba-4aba-9917-d50fd9412b20",
   "metadata": {},
   "outputs": [],
   "source": [
    "import pandas as pd\n",
    "import numpy as np\n",
    "import re\n",
    "import matplotlib.pyplot as plt\n",
    "from sklearn.feature_extraction.text import TfidfVectorizer\n",
    "import string\n",
    "import nltk\n",
    "from nltk.corpus import stopwords\n",
    "#nltk.download('stopwords')\n",
    "#nltk.download('punkt')\n",
    "stop_words_sp = set(stopwords.words('spanish'))"
   ]
  },
  {
   "cell_type": "code",
   "execution_count": null,
   "id": "44286594",
   "metadata": {},
   "outputs": [],
   "source": [
    "df = pd.read_csv('../data/BanamexFace.csv')\n",
    "df.head()"
   ]
  },
  {
   "cell_type": "code",
   "execution_count": null,
   "id": "fe8e1b1a-d3bb-4914-b7ff-4fe07481f92f",
   "metadata": {},
   "outputs": [],
   "source": [
    "lisco = df.columns\n",
    "lisco"
   ]
  },
  {
   "cell_type": "code",
   "execution_count": null,
   "id": "949a5b03-6f36-4229-a3a9-e4e0b5149a6a",
   "metadata": {},
   "outputs": [],
   "source": [
    "df.sent.value_counts()"
   ]
  },
  {
   "cell_type": "markdown",
   "id": "71ded9d7",
   "metadata": {},
   "source": [
    "#### Limpieza del texto (puntuación, tokenización y eliminado de stopwords en español)"
   ]
  },
  {
   "cell_type": "code",
   "execution_count": null,
   "id": "4fb37031",
   "metadata": {},
   "outputs": [],
   "source": [
    "def clean_text(text):\n",
    "    text = \"\".join([word.lower() for word in text if word not in string.punctuation])\n",
    "    tokens = re.split('\\W+', text)\n",
    "    text = [word for word in tokens if word not in stop_words_sp]\n",
    "    return text"
   ]
  },
  {
   "cell_type": "markdown",
   "id": "7dbf8154-0dd7-4ac0-a35a-2abec5d4c999",
   "metadata": {},
   "source": [
    "#### Creamos la Matriz Documento-Término (DTM) con puntuaciones TF-IDF"
   ]
  },
  {
   "cell_type": "code",
   "execution_count": null,
   "id": "dd05303d-4d84-49e1-87ee-d718dbc41a7a",
   "metadata": {},
   "outputs": [],
   "source": [
    "tfidf_vect = TfidfVectorizer(analyzer=clean_text)\n",
    "X_tfidf = tfidf_vect.fit_transform(df['com'])"
   ]
  },
  {
   "cell_type": "code",
   "execution_count": null,
   "id": "2e760d37-de57-4e3e-8680-a5e7bf1a511e",
   "metadata": {},
   "outputs": [],
   "source": [
    "X_features = pd.DataFrame(X_tfidf.toarray(), columns=tfidf_vect.get_feature_names())\n",
    "X_features.head()"
   ]
  },
  {
   "cell_type": "code",
   "execution_count": null,
   "id": "31c057f6-1647-4ffd-bb2c-ce671a1b4502",
   "metadata": {},
   "outputs": [],
   "source": [
    "X_features.info()"
   ]
  },
  {
   "cell_type": "markdown",
   "id": "e0e40fcb-a04e-4e83-8a00-f8bf02da3dd5",
   "metadata": {},
   "source": [
    "#### Removemos las columnas de términos redundantes y los que son poco frecuentes"
   ]
  },
  {
   "cell_type": "code",
   "execution_count": null,
   "id": "a1550085-4bce-4c2c-a850-a50636db8b92",
   "metadata": {},
   "outputs": [],
   "source": [
    "column = pd.DataFrame(X_features.sum())\n",
    "column.head()"
   ]
  },
  {
   "cell_type": "code",
   "execution_count": null,
   "id": "551035bf-26d9-4ac0-960b-8765a4d674a7",
   "metadata": {},
   "outputs": [],
   "source": [
    "column[column[0]>20].index"
   ]
  },
  {
   "cell_type": "code",
   "execution_count": null,
   "id": "0a52d5ae-cbcb-4d0b-bc03-50f423756bd6",
   "metadata": {},
   "outputs": [],
   "source": [
    "X_features.drop(columns=['', 'banamex', 'citibanamex'], inplace=True)"
   ]
  },
  {
   "cell_type": "code",
   "execution_count": null,
   "id": "dafb9949-1037-482d-a2f8-0ccddee14077",
   "metadata": {},
   "outputs": [],
   "source": [
    "X_features.drop(columns=['alta', 'anualidaaaaaaaaaaaaad', 'cajeros', 'cobrando', 'créditos', 'liquidar', 'llega', 'mínimo', 'plática', 'presentación', 'puedan', 'quiten', 'saludos', 'tips', 'toño', 'x'], inplace=True)"
   ]
  },
  {
   "cell_type": "code",
   "execution_count": null,
   "id": "74c20397-7b19-4d31-b82e-497b4fdba347",
   "metadata": {},
   "outputs": [],
   "source": [
    "stop = list(column[column[0]<3].index)"
   ]
  },
  {
   "cell_type": "code",
   "execution_count": null,
   "id": "138784e2-6338-4c80-a671-000f62098929",
   "metadata": {},
   "outputs": [],
   "source": [
    "len(stop)"
   ]
  },
  {
   "cell_type": "code",
   "execution_count": null,
   "id": "809f7571-ab6c-4b51-8a8e-903f9b4beb2b",
   "metadata": {},
   "outputs": [],
   "source": [
    "X_features.drop(columns=stop, inplace=True)"
   ]
  },
  {
   "cell_type": "code",
   "execution_count": null,
   "id": "8ca57fc7-9859-4a03-8e6f-394017a277be",
   "metadata": {},
   "outputs": [],
   "source": [
    "X_features.info()"
   ]
  },
  {
   "cell_type": "markdown",
   "id": "f676da78-f01e-4c1d-929b-a359f164f19c",
   "metadata": {},
   "source": [
    "#### Creamos un Clasificador de Comentarios utilizando RandomForest"
   ]
  },
  {
   "cell_type": "code",
   "execution_count": null,
   "id": "3d4f384d-cdf1-454b-91d6-e74101f3cbcd",
   "metadata": {},
   "outputs": [],
   "source": [
    "from sklearn.ensemble import RandomForestClassifier\n",
    "from sklearn.metrics import confusion_matrix, accuracy_score, precision_score, recall_score\n",
    "from sklearn.model_selection import train_test_split"
   ]
  },
  {
   "cell_type": "markdown",
   "id": "da112ffc-4a5a-49ad-960c-94527aa75041",
   "metadata": {},
   "source": [
    "Particionamos las muestras"
   ]
  },
  {
   "cell_type": "code",
   "execution_count": null,
   "id": "3dee7df8-9bc5-4d7c-8af7-a1f4f7171595",
   "metadata": {},
   "outputs": [],
   "source": [
    "X_train, X_test, y_train, y_test = train_test_split(X_features,\n",
    "                                                    df['sent'],\n",
    "                                                    test_size=0.2)"
   ]
  },
  {
   "cell_type": "markdown",
   "id": "9ad8cb74-a350-43b0-ad22-74e2d7d65681",
   "metadata": {},
   "source": [
    "Entrenamos el modelo y generamos las predicciones sobre la muestra de evaluación"
   ]
  },
  {
   "cell_type": "code",
   "execution_count": null,
   "id": "4aa68566-b233-4a09-9a68-5fcf43a6c00c",
   "metadata": {},
   "outputs": [],
   "source": [
    "rf = RandomForestClassifier()\n",
    "rf_model = rf.fit(X_train, y_train)\n",
    "y_pred = rf_model.predict(X_test)"
   ]
  },
  {
   "cell_type": "markdown",
   "id": "3eaeb02d-96b6-42f6-9172-51a8eceb419e",
   "metadata": {},
   "source": [
    "#### Métricas de Diagnóstico"
   ]
  },
  {
   "cell_type": "code",
   "execution_count": null,
   "id": "e38aa62b-229e-4ae5-84b0-45ae19345a3c",
   "metadata": {},
   "outputs": [],
   "source": [
    "print('Matriz de Confusión:')\n",
    "confusion_matrix(y_test, y_pred)"
   ]
  },
  {
   "cell_type": "code",
   "execution_count": null,
   "id": "05adf340-8c80-4c0a-a72d-c4417cf913d0",
   "metadata": {},
   "outputs": [],
   "source": [
    "print('Accuracy: %.2f%%' %(accuracy_score(y_test, y_pred)*100))  \n",
    "print('Precision: %.2f%%' % (precision_score(y_test, y_pred, average= 'weighted')*100))\n",
    "print('Recall: %.2f%%' % (recall_score(y_test, y_pred, average= 'weighted')*100))"
   ]
  },
  {
   "cell_type": "markdown",
   "id": "c7733356-64d8-4a71-a7f4-d31633ef553b",
   "metadata": {},
   "source": [
    "#### También podemos probar con un modelo Naive Bayes Gausiano"
   ]
  },
  {
   "cell_type": "code",
   "execution_count": null,
   "id": "af85ac89-2865-4f31-b337-95cdda3b33bb",
   "metadata": {},
   "outputs": [],
   "source": [
    "from sklearn.naive_bayes import GaussianNB"
   ]
  },
  {
   "cell_type": "code",
   "execution_count": null,
   "id": "48d96c67-1c4c-4d1e-b1c8-4ea14d9a668d",
   "metadata": {},
   "outputs": [],
   "source": [
    "nb = GaussianNB(priors=None)\n",
    "nb_model = nb.fit(X_train, y_train)\n",
    "y_pred = nb_model.predict(X_test)"
   ]
  },
  {
   "cell_type": "code",
   "execution_count": null,
   "id": "eb869637-6086-4b09-a485-ede002e18fb0",
   "metadata": {},
   "outputs": [],
   "source": [
    "print('Matriz de Confusión:')\n",
    "confusion_matrix(y_test, y_pred)"
   ]
  },
  {
   "cell_type": "code",
   "execution_count": null,
   "id": "c8a799ac-110e-4f8f-93a2-b824ea480a7f",
   "metadata": {},
   "outputs": [],
   "source": [
    "print('Accuracy: %.2f%%' %(accuracy_score(y_test, y_pred)*100))  \n",
    "print('Precision: %.2f%%' % (precision_score(y_test, y_pred, average= 'weighted')*100))\n",
    "print('Recall: %.2f%%' % (recall_score(y_test, y_pred, average= 'weighted')*100))"
   ]
  },
  {
   "cell_type": "markdown",
   "id": "70a347b3",
   "metadata": {},
   "source": [
    "#### Ahora podemos implementar el mejor modelo, utilizando el otro conjunto de datos"
   ]
  },
  {
   "cell_type": "code",
   "execution_count": null,
   "id": "83920e28",
   "metadata": {},
   "outputs": [],
   "source": [
    "dfs = pd.read_csv('../data/BanamexFaceNew.csv')\n",
    "dfs.head()"
   ]
  },
  {
   "cell_type": "markdown",
   "id": "c97e9afe",
   "metadata": {},
   "source": [
    "Preparar los datos para el scoring"
   ]
  },
  {
   "cell_type": "code",
   "execution_count": null,
   "id": "683ceeb2",
   "metadata": {},
   "outputs": [],
   "source": [
    "tfidf_vect = TfidfVectorizer(analyzer=clean_text)\n",
    "S_tfidf = tfidf_vect.fit_transform(dfs['com'])"
   ]
  },
  {
   "cell_type": "code",
   "execution_count": null,
   "id": "d36ae6a0",
   "metadata": {},
   "outputs": [],
   "source": [
    "S_features = pd.DataFrame(S_tfidf.toarray(), columns=tfidf_vect.get_feature_names())\n",
    "S_features = S_features[X_features.columns]\n",
    "S_features.info()"
   ]
  },
  {
   "cell_type": "markdown",
   "id": "b8e2239e-d7cd-4730-95d6-7f89a227a6bb",
   "metadata": {},
   "source": [
    "Aplicamos el modelo"
   ]
  },
  {
   "cell_type": "code",
   "execution_count": null,
   "id": "726ad9ff-325d-49f8-bf6f-aca6ee9559d4",
   "metadata": {},
   "outputs": [],
   "source": [
    "y_score = rf_model.predict(S_features)\n",
    "dfs['sent_model'] = y_score\n",
    "dfs.head(20)"
   ]
  },
  {
   "cell_type": "markdown",
   "id": "0bae14b6",
   "metadata": {},
   "source": [
    "Elaborado por Luis Cajachahua bajo licencia MIT (2022)"
   ]
  }
 ],
 "metadata": {
  "kernelspec": {
   "display_name": "Python 3 (ipykernel)",
   "language": "python",
   "name": "python3"
  },
  "language_info": {
   "codemirror_mode": {
    "name": "ipython",
    "version": 3
   },
   "file_extension": ".py",
   "mimetype": "text/x-python",
   "name": "python",
   "nbconvert_exporter": "python",
   "pygments_lexer": "ipython3",
   "version": "3.9.7"
  }
 },
 "nbformat": 4,
 "nbformat_minor": 5
}
