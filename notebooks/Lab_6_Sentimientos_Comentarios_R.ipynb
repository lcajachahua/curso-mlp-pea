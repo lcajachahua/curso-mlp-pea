{
 "cells": [
  {
   "cell_type": "markdown",
   "id": "d044b1b6-2a97-412c-a21d-ecc156a89220",
   "metadata": {},
   "source": [
    "# Análisis de Sentimientos utilizando Comentarios de Facebook"
   ]
  },
  {
   "cell_type": "markdown",
   "id": "c9207d83-fa01-4df2-99b2-78764c31ac8e",
   "metadata": {},
   "source": [
    "## Cargar el archivo\n",
    "Se extrajeron 1,569 comentarios de septiembre y octubre año 2020 en los que se menciona a CitiBanamex"
   ]
  },
  {
   "cell_type": "markdown",
   "id": "27190492-26e9-4fc9-8404-0cfb371f3e09",
   "metadata": {},
   "source": [
    "#### Instalar Librerías"
   ]
  },
  {
   "cell_type": "code",
   "execution_count": null,
   "id": "0e50aa7d-e780-4173-9c1c-0389ae3003ab",
   "metadata": {},
   "outputs": [],
   "source": [
    "#install.packages(\"syuzhet\")\n",
    "#install.packages(\"RColorBrewer\")\n",
    "#install.packages(\"wordcloud\")\n",
    "#install.packages(\"tm\")"
   ]
  },
  {
   "cell_type": "markdown",
   "id": "9afa2051-b866-44c3-bd7e-ca52640e329e",
   "metadata": {},
   "source": [
    "#### Activar las Librerías"
   ]
  },
  {
   "cell_type": "code",
   "execution_count": null,
   "id": "fb09634c-d598-4e94-ab2a-fff266ec3ee0",
   "metadata": {},
   "outputs": [],
   "source": [
    "library(syuzhet)\n",
    "library(RColorBrewer)\n",
    "library(wordcloud)\n",
    "library(tm)"
   ]
  },
  {
   "cell_type": "markdown",
   "id": "61269425-2025-401f-9b89-a95ab87ab0c7",
   "metadata": {},
   "source": [
    "#### Cargar los Datos"
   ]
  },
  {
   "cell_type": "code",
   "execution_count": null,
   "id": "a07f96a5-f2da-4a30-aa82-f3c074b045db",
   "metadata": {},
   "outputs": [],
   "source": [
    "datos<-read.csv(\"../data/BanamexFace.csv\", stringsAsFactors = F, encoding=\"UTF-8\")\n",
    "head(datos)"
   ]
  },
  {
   "cell_type": "markdown",
   "id": "f68b0f25-474c-4367-a73d-c6c83c2da8f7",
   "metadata": {},
   "source": [
    "#### utilizamos la función 'get_nrc_sentiment' para realizar el conteo de palabras correspondientes a cada una de las emociones de Plutchick"
   ]
  },
  {
   "cell_type": "code",
   "execution_count": null,
   "id": "acc18226-87c2-47c6-aad1-84d039f79128",
   "metadata": {},
   "outputs": [],
   "source": [
    "matsent <- get_nrc_sentiment(datos$com, lang=\"spanish\")"
   ]
  },
  {
   "cell_type": "code",
   "execution_count": null,
   "id": "d8bfe695-25c9-45c7-876e-b09b3b616e84",
   "metadata": {},
   "outputs": [],
   "source": [
    "barplot(colSums(prop.table(matsent[, 1:8])),\n",
    "  col = brewer.pal(n = 8, name = \"Set3\"),\n",
    "  main = \"Distribución Porcentual de Frecuencias de Emociones\")"
   ]
  },
  {
   "cell_type": "code",
   "execution_count": null,
   "id": "8894c7ad-aabb-4cc9-b7f2-5fe4212ec807",
   "metadata": {},
   "outputs": [],
   "source": [
    "barplot(colSums(prop.table(matsent[, 9:10])),\n",
    "  col = brewer.pal(n = 8, name = \"Set3\"),\n",
    "  main = \"Distribución Porcentual de Términos Positivos y Negativos\")"
   ]
  },
  {
   "cell_type": "markdown",
   "id": "d3ef9b58-ce02-4c87-b3aa-df426fe3c566",
   "metadata": {},
   "source": [
    "#### Calculamos un índice de Positividad del Comentario"
   ]
  },
  {
   "cell_type": "code",
   "execution_count": null,
   "id": "1f416429-c4c0-4366-bb4b-e95861fdb1fa",
   "metadata": {},
   "outputs": [],
   "source": [
    "matsent$Prop <- matsent$positive/(matsent$positive+matsent$negative)\n",
    "head(matsent)"
   ]
  },
  {
   "cell_type": "markdown",
   "id": "1efe4e6a-ffe0-4fd4-8a96-c6e4159b42c2",
   "metadata": {},
   "source": [
    "#### Unimos los dos DataFrames para tener la información completa"
   ]
  },
  {
   "cell_type": "code",
   "execution_count": null,
   "id": "ea7d1041-59e2-44b8-9e42-658faed6d9db",
   "metadata": {},
   "outputs": [],
   "source": [
    "datos <- data.frame(datos,matsent)\n",
    "head(datos)"
   ]
  },
  {
   "cell_type": "markdown",
   "id": "f75e349c-b9bd-4c2f-a346-a5138231f9ae",
   "metadata": {},
   "source": [
    "#### Exportamos para generar reportes y otros análisis"
   ]
  },
  {
   "cell_type": "code",
   "execution_count": null,
   "id": "42e11f02-613e-40ee-8005-165c6eeb9d99",
   "metadata": {},
   "outputs": [],
   "source": [
    "write.csv(datos, \"Comentarios.csv\")"
   ]
  },
  {
   "cell_type": "markdown",
   "id": "d7d281eb-4ef1-4c6a-acef-2311622f76dd",
   "metadata": {},
   "source": [
    "## Visualización de Wordcloud\n",
    "#### Convertimos el tipo de Objeto de la Columna de Comentario"
   ]
  },
  {
   "cell_type": "code",
   "execution_count": null,
   "id": "ab69f91d-0105-429f-aadd-a0fcc3d95f77",
   "metadata": {},
   "outputs": [],
   "source": [
    "docs <- Corpus(VectorSource(datos[4]))"
   ]
  },
  {
   "cell_type": "markdown",
   "id": "2e3b33d5-47a8-4da7-be4c-5cbd9c7a6a14",
   "metadata": {},
   "source": [
    "#### Removemos Stopwords o términos no relevantes"
   ]
  },
  {
   "cell_type": "code",
   "execution_count": null,
   "id": "dcca80e2-9184-462d-bb9d-f4a73a86ff66",
   "metadata": {},
   "outputs": [],
   "source": [
    "docs <- tm_map(docs, removeWords, stopwords(\"spanish\"))"
   ]
  },
  {
   "cell_type": "code",
   "execution_count": null,
   "id": "fc870228-d461-418d-b68f-8520d50bc15a",
   "metadata": {},
   "outputs": [],
   "source": [
    "docs <- tm_map(docs, removeWords, c(\"citibanamex\"))"
   ]
  },
  {
   "cell_type": "markdown",
   "id": "2caaf504-d329-499e-8c45-ab6051d18903",
   "metadata": {},
   "source": [
    "#### Calculamos las frecuencias de cada Término"
   ]
  },
  {
   "cell_type": "code",
   "execution_count": null,
   "id": "545fcd38-84a8-41fa-87c6-18febb1cf0f2",
   "metadata": {},
   "outputs": [],
   "source": [
    "dtm <- DocumentTermMatrix(docs)\n",
    "freq <- sort(colSums(as.matrix(dtm)), decreasing=TRUE)"
   ]
  },
  {
   "cell_type": "markdown",
   "id": "c663b85a-d402-4db0-b5a6-9cfcfccadbf3",
   "metadata": {},
   "source": [
    "#### Dibujamos el WordCloud"
   ]
  },
  {
   "cell_type": "code",
   "execution_count": null,
   "id": "4159d27b-ff72-4216-a200-2aee9c1d4f8b",
   "metadata": {},
   "outputs": [],
   "source": [
    "set.seed(2000)\n",
    "wordcloud(names(freq), freq, min.freq=30, scale=c(5, .05), colors=brewer.pal(6, \"Dark2\"))"
   ]
  },
  {
   "cell_type": "markdown",
   "id": "e586fa5b-a649-401f-8402-85798bd52a65",
   "metadata": {},
   "source": [
    "Elaborado por Luis Cajachahua bajo licencia MIT (2022)"
   ]
  }
 ],
 "metadata": {
  "kernelspec": {
   "display_name": "R",
   "language": "R",
   "name": "ir"
  },
  "language_info": {
   "codemirror_mode": "r",
   "file_extension": ".r",
   "mimetype": "text/x-r-source",
   "name": "R",
   "pygments_lexer": "r",
   "version": "3.6.1"
  }
 },
 "nbformat": 4,
 "nbformat_minor": 5
}
