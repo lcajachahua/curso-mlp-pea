{
 "cells": [
  {
   "cell_type": "markdown",
   "id": "64517fc2",
   "metadata": {},
   "source": [
    "# Topic Modeling: Descubriendo Temáticas en los Comentarios de Facebook"
   ]
  },
  {
   "cell_type": "markdown",
   "id": "a7d71f0f",
   "metadata": {},
   "source": [
    "## Cargar el archivo\n",
    "Se extrajeron 1,569 comentarios de septiembre y octubre año 2020 en los que se menciona a CitiBanamex"
   ]
  },
  {
   "cell_type": "code",
   "execution_count": null,
   "id": "68915d24-e5ba-4aba-9917-d50fd9412b20",
   "metadata": {},
   "outputs": [],
   "source": [
    "import pandas as pd\n",
    "import numpy as np\n",
    "import re\n",
    "import matplotlib.pyplot as plt\n",
    "from sklearn.feature_extraction.text import CountVectorizer\n",
    "import string\n",
    "import nltk\n",
    "from nltk.stem import SnowballStemmer\n",
    "from nltk.corpus import stopwords\n",
    "#nltk.download('stopwords')\n",
    "#nltk.download('punkt')\n",
    "stop_words_sp = set(stopwords.words('spanish'))"
   ]
  },
  {
   "cell_type": "code",
   "execution_count": null,
   "id": "44286594",
   "metadata": {},
   "outputs": [],
   "source": [
    "df = pd.read_csv('../data/BanamexFace.csv')\n",
    "df.head()"
   ]
  },
  {
   "cell_type": "markdown",
   "id": "71ded9d7",
   "metadata": {},
   "source": [
    "#### Limpieza del texto (puntuación, tokenización y eliminado de stopwords en español)"
   ]
  },
  {
   "cell_type": "code",
   "execution_count": null,
   "id": "4fb37031",
   "metadata": {},
   "outputs": [],
   "source": [
    "stemmer = SnowballStemmer(\"spanish\")\n",
    "def clean_text(text):\n",
    "    text = \"\".join([word.lower() for word in text if word not in string.punctuation])\n",
    "    tokens = re.split('\\W+', text)\n",
    "    text = [word for word in tokens if word not in stop_words_sp]\n",
    "    return text"
   ]
  },
  {
   "cell_type": "code",
   "execution_count": null,
   "id": "1f2a1de1-d15d-4cae-ac83-0b6ea7bd2816",
   "metadata": {},
   "outputs": [],
   "source": [
    "df[\"Tokens\"] = df.com.apply(clean_text)\n",
    "df.head()"
   ]
  },
  {
   "cell_type": "markdown",
   "id": "7dbf8154-0dd7-4ac0-a35a-2abec5d4c999",
   "metadata": {},
   "source": [
    "####  Creamos el diccionario necesario para el modelo LDA"
   ]
  },
  {
   "cell_type": "code",
   "execution_count": null,
   "id": "dd05303d-4d84-49e1-87ee-d718dbc41a7a",
   "metadata": {},
   "outputs": [],
   "source": [
    "from gensim.corpora import Dictionary\n",
    "from gensim.models import LdaModel\n",
    "import random\n",
    "from wordcloud import WordCloud"
   ]
  },
  {
   "cell_type": "code",
   "execution_count": null,
   "id": "31c057f6-1647-4ffd-bb2c-ce671a1b4502",
   "metadata": {},
   "outputs": [],
   "source": [
    "diccionario = Dictionary(df.Tokens)\n",
    "print(f'Número de tokens: {len(diccionario)}')"
   ]
  },
  {
   "cell_type": "markdown",
   "id": "e6e40c61-7fc1-4387-ad58-4077f0bc4015",
   "metadata": {},
   "source": [
    "Con filter_extremes mantenemos únicamentos los tokens que están mantenidos en al menos no_below documentos y los que están contenidos en no mas de no_above documentos. En este último caso le indicamos una fracción del tamaño del corpus."
   ]
  },
  {
   "cell_type": "code",
   "execution_count": null,
   "id": "a3c0f5f0-52e1-4f89-9c62-d6c9ffea3141",
   "metadata": {},
   "outputs": [],
   "source": [
    "diccionario.filter_extremes(no_below=2, no_above = 0.9)\n",
    "print(f'Número de tokens: {len(diccionario)}')"
   ]
  },
  {
   "cell_type": "markdown",
   "id": "1fed777f-47a7-4e95-bca0-6c4c52118dbc",
   "metadata": {},
   "source": [
    "Generamos una representación vectorial de los documentos"
   ]
  },
  {
   "cell_type": "code",
   "execution_count": null,
   "id": "a017dab1-6654-4d3a-8783-cafc9ec0ab20",
   "metadata": {},
   "outputs": [],
   "source": [
    "corpus = [diccionario.doc2bow(noticia) for noticia in df.Tokens]\n",
    "\n",
    "print(corpus[6])"
   ]
  },
  {
   "cell_type": "markdown",
   "id": "e0e40fcb-a04e-4e83-8a00-f8bf02da3dd5",
   "metadata": {},
   "source": [
    "#### Generamos el modelo LDA"
   ]
  },
  {
   "cell_type": "code",
   "execution_count": null,
   "id": "a1550085-4bce-4c2c-a850-a50636db8b92",
   "metadata": {},
   "outputs": [],
   "source": [
    "lda = LdaModel(corpus=corpus, id2word=diccionario, \n",
    "               num_topics=40, random_state=42, \n",
    "               chunksize=1000, passes=10, alpha='auto')"
   ]
  },
  {
   "cell_type": "code",
   "execution_count": null,
   "id": "551035bf-26d9-4ac0-960b-8765a4d674a7",
   "metadata": {},
   "outputs": [],
   "source": [
    "topicos = lda.print_topics(num_words=8, num_topics=15)\n",
    "for topico in topicos:\n",
    "    print(topico)"
   ]
  },
  {
   "cell_type": "markdown",
   "id": "f122d1cb-b9c2-46a9-b586-44a6d0dffeb3",
   "metadata": {},
   "source": [
    "Wordcloud de los Tópicos"
   ]
  },
  {
   "cell_type": "code",
   "execution_count": null,
   "id": "138784e2-6338-4c80-a671-000f62098929",
   "metadata": {},
   "outputs": [],
   "source": [
    "for i in range(1, 7):\n",
    "    plt.figure()\n",
    "    plt.imshow(WordCloud(background_color='white', prefer_horizontal=1.0)\n",
    "               .fit_words(dict(lda.show_topic(i, 20))))\n",
    "    plt.axis(\"off\")\n",
    "    plt.title(\"Tópico \" + str(i))\n",
    "    plt.show()"
   ]
  },
  {
   "cell_type": "markdown",
   "id": "70a347b3",
   "metadata": {},
   "source": [
    "#### Ahora podemos clasificar nuevos comentarios utilizando el modelo LDA generado"
   ]
  },
  {
   "cell_type": "code",
   "execution_count": null,
   "id": "83920e28",
   "metadata": {},
   "outputs": [],
   "source": [
    "dfs = pd.read_csv('../data/BanamexFaceNew.csv')\n",
    "dfs.head()"
   ]
  },
  {
   "cell_type": "code",
   "execution_count": null,
   "id": "4869bd41-7620-4319-acc4-6873db44e5c9",
   "metadata": {},
   "outputs": [],
   "source": [
    "dfs[\"Tokens\"] = dfs.com.apply(clean_text)\n",
    "dfs.head()"
   ]
  },
  {
   "cell_type": "markdown",
   "id": "c97e9afe",
   "metadata": {},
   "source": [
    "Identifcando los Tópicos"
   ]
  },
  {
   "cell_type": "code",
   "execution_count": null,
   "id": "683ceeb2",
   "metadata": {},
   "outputs": [],
   "source": [
    "bow_articulo_nuevo = diccionario.doc2bow(dfs.Tokens[0])"
   ]
  },
  {
   "cell_type": "code",
   "execution_count": null,
   "id": "d36ae6a0",
   "metadata": {},
   "outputs": [],
   "source": [
    "# Indices de los topicos mas significativos\n",
    "dist_indices = [topico[0] for topico in lda[bow_articulo_nuevo]]\n",
    "# Contribucion de los topicos mas significativos\n",
    "dist_contrib = [topico[1] for topico in lda[bow_articulo_nuevo]]"
   ]
  },
  {
   "cell_type": "code",
   "execution_count": null,
   "id": "add9ceab-7cbd-4dfc-8008-04a67aad8ddd",
   "metadata": {},
   "outputs": [],
   "source": [
    "distribucion_topicos = pd.DataFrame({'Topico':dist_indices,'Contribucion':dist_contrib })\n",
    "distribucion_topicos.sort_values('Contribucion', ascending=False, inplace=True)\n",
    "ax = distribucion_topicos.plot.bar(y='Contribucion',x='Topico', rot=0, color=\"green\",\n",
    "                                   title = \"Tópicos más importantes para documento nuevo\")"
   ]
  },
  {
   "cell_type": "markdown",
   "id": "b8e2239e-d7cd-4730-95d6-7f89a227a6bb",
   "metadata": {},
   "source": [
    "Examinamos los Tópicos"
   ]
  },
  {
   "cell_type": "code",
   "execution_count": null,
   "id": "726ad9ff-325d-49f8-bf6f-aca6ee9559d4",
   "metadata": {},
   "outputs": [],
   "source": [
    "for ind, topico in distribucion_topicos.iterrows():\n",
    "    print(\"*** Tópico: \" + str(int(topico.Topico)) + \" ***\")\n",
    "    palabras = [palabra[0] for palabra in lda.show_topic(topicid=int(topico.Topico))]\n",
    "    palabras = ', '.join(palabras)\n",
    "    print(palabras, \"\\n\")"
   ]
  },
  {
   "cell_type": "markdown",
   "id": "ff2eb478-602c-481c-8a09-3c01a4884879",
   "metadata": {},
   "source": [
    "Guardamos el modelo y el diccionario."
   ]
  },
  {
   "cell_type": "code",
   "execution_count": null,
   "id": "eea02522-fc02-4cef-bfcb-58c9f24369d8",
   "metadata": {},
   "outputs": [],
   "source": [
    "lda.save(\"comentarios.model\")\n",
    "diccionario.save(\"comentarios.dictionary\")"
   ]
  },
  {
   "cell_type": "markdown",
   "id": "0bae14b6",
   "metadata": {},
   "source": [
    "Elaborado por Luis Cajachahua bajo licencia MIT (2022)"
   ]
  }
 ],
 "metadata": {
  "kernelspec": {
   "display_name": "Python 3 (ipykernel)",
   "language": "python",
   "name": "python3"
  },
  "language_info": {
   "codemirror_mode": {
    "name": "ipython",
    "version": 3
   },
   "file_extension": ".py",
   "mimetype": "text/x-python",
   "name": "python",
   "nbconvert_exporter": "python",
   "pygments_lexer": "ipython3",
   "version": "3.9.7"
  }
 },
 "nbformat": 4,
 "nbformat_minor": 5
}
