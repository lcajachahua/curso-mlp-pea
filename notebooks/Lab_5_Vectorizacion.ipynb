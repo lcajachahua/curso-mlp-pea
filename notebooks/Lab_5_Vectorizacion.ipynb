{
 "cells": [
  {
   "cell_type": "markdown",
   "id": "64517fc2",
   "metadata": {},
   "source": [
    "# Vectorización de Comentarios en Facebook"
   ]
  },
  {
   "cell_type": "markdown",
   "id": "a7d71f0f",
   "metadata": {},
   "source": [
    "## Cargar el archivo\n",
    "Se extrajeron 1,569 comentarios de septiembre y octubre año 2020 en los que se menciona a CitiBanamex"
   ]
  },
  {
   "cell_type": "code",
   "execution_count": null,
   "id": "68915d24-e5ba-4aba-9917-d50fd9412b20",
   "metadata": {},
   "outputs": [],
   "source": [
    "import pandas as pd\n",
    "import numpy as np \n",
    "import matplotlib.pyplot as plt\n",
    "import time"
   ]
  },
  {
   "cell_type": "code",
   "execution_count": null,
   "id": "1393daf6-8c4c-4e8e-9430-07d118867ce4",
   "metadata": {},
   "outputs": [],
   "source": [
    "# conda install -c conda-forge gensim"
   ]
  },
  {
   "cell_type": "code",
   "execution_count": null,
   "id": "44286594",
   "metadata": {},
   "outputs": [],
   "source": [
    "df = pd.read_csv('../data/BanamexFace.csv')\n",
    "df.head()"
   ]
  },
  {
   "cell_type": "markdown",
   "id": "71ded9d7",
   "metadata": {},
   "source": [
    "Extraemos el campo \"com\" que contiene el comentario"
   ]
  },
  {
   "cell_type": "code",
   "execution_count": null,
   "id": "4fb37031",
   "metadata": {},
   "outputs": [],
   "source": [
    "comm = df[\"com\"]\n",
    "comm.head()"
   ]
  },
  {
   "cell_type": "markdown",
   "id": "7dbf8154-0dd7-4ac0-a35a-2abec5d4c999",
   "metadata": {},
   "source": [
    "#### Creamos la Matriz Documento-Término (DTM) con CountVectorizer"
   ]
  },
  {
   "cell_type": "code",
   "execution_count": null,
   "id": "ec8d4b88-2969-4668-b770-90c77fd1a9f6",
   "metadata": {},
   "outputs": [],
   "source": [
    "from sklearn.feature_extraction.text import CountVectorizer"
   ]
  },
  {
   "cell_type": "code",
   "execution_count": null,
   "id": "dd05303d-4d84-49e1-87ee-d718dbc41a7a",
   "metadata": {},
   "outputs": [],
   "source": [
    "vec = CountVectorizer()\n",
    "X = vec.fit_transform(comm)"
   ]
  },
  {
   "cell_type": "code",
   "execution_count": null,
   "id": "ed8c7d92-f9ce-443b-8c2b-2f27efe47185",
   "metadata": {},
   "outputs": [],
   "source": [
    "dtm = pd.DataFrame(X.toarray(), columns=vec.get_feature_names())\n",
    "dtm.head()"
   ]
  },
  {
   "cell_type": "code",
   "execution_count": null,
   "id": "2961f499-e38e-4244-92fa-4c2a9aa57f99",
   "metadata": {},
   "outputs": [],
   "source": [
    "dtm.info()"
   ]
  },
  {
   "cell_type": "markdown",
   "id": "a4b3ebbd-36f5-431b-bf3d-dcb170e67b24",
   "metadata": {},
   "source": [
    "#### Creamos la Matriz de Vectores TFIDF con TfidfVectorizer"
   ]
  },
  {
   "cell_type": "markdown",
   "id": "531cf607-b2ab-48f1-978f-a24910f445c0",
   "metadata": {},
   "source": [
    "Es otra opción, considerando la Frecuencia Inversa de los Términos"
   ]
  },
  {
   "cell_type": "code",
   "execution_count": null,
   "id": "c359e6fe-8525-4cab-9e1f-d39956286f72",
   "metadata": {},
   "outputs": [],
   "source": [
    "from sklearn.feature_extraction.text import TfidfVectorizer"
   ]
  },
  {
   "cell_type": "code",
   "execution_count": null,
   "id": "94157389-32bc-47dd-8a5f-86b586414944",
   "metadata": {},
   "outputs": [],
   "source": [
    "vectorizer = TfidfVectorizer()\n",
    "doc_vec = vectorizer.fit_transform(comm)"
   ]
  },
  {
   "cell_type": "code",
   "execution_count": null,
   "id": "5e3b43b9-b97e-42d5-88fc-e0be697ea777",
   "metadata": {},
   "outputs": [],
   "source": [
    "tdm2 = pd.DataFrame(doc_vec.toarray(), columns=vectorizer.get_feature_names())\n",
    "tdm2.head()"
   ]
  },
  {
   "cell_type": "code",
   "execution_count": null,
   "id": "3bb9aea1-4c4c-4706-bff3-770f76c60663",
   "metadata": {},
   "outputs": [],
   "source": [
    "tdm2.info()"
   ]
  },
  {
   "cell_type": "markdown",
   "id": "65b86fe2-6efc-48c5-8a64-9aa6956cb270",
   "metadata": {},
   "source": [
    "#### Creamos la matriz Word2Vec"
   ]
  },
  {
   "cell_type": "code",
   "execution_count": null,
   "id": "6abd93fd-7340-4235-818f-f22b66832f70",
   "metadata": {},
   "outputs": [],
   "source": [
    "import gensim\n",
    "import gensim.downloader as api\n",
    "from sklearn.model_selection import train_test_split"
   ]
  },
  {
   "cell_type": "code",
   "execution_count": null,
   "id": "aabd0e63-a8df-4382-8883-36e28a635f1e",
   "metadata": {},
   "outputs": [],
   "source": [
    "df['com_clean'] = df['com'].apply(lambda x: gensim.utils.simple_preprocess(x))\n",
    "df.head()"
   ]
  },
  {
   "cell_type": "code",
   "execution_count": null,
   "id": "8b4f8f54-18c1-452f-9cf3-f7d74d7f0e23",
   "metadata": {},
   "outputs": [],
   "source": [
    "X_train, X_test, y_train, y_test = train_test_split(df['com_clean'], df['sent'], test_size=0.3)"
   ]
  },
  {
   "cell_type": "markdown",
   "id": "1f3e6b2c-f821-48a7-a54a-3405b4c08f2a",
   "metadata": {},
   "source": [
    "Entrenamos el modelo con Gensim"
   ]
  },
  {
   "cell_type": "code",
   "execution_count": null,
   "id": "f27cdda4-d4e2-4c21-bc6e-9705f0f03904",
   "metadata": {},
   "outputs": [],
   "source": [
    "w2v_model = gensim.models.Word2Vec(X_train, window=5, min_count=2)"
   ]
  },
  {
   "cell_type": "markdown",
   "id": "6edfb6b2-d714-4b7a-88f5-225335c48245",
   "metadata": {},
   "source": [
    "Obtenemos el vector correspondiente a un término"
   ]
  },
  {
   "cell_type": "code",
   "execution_count": null,
   "id": "2e8a4546-dcf3-4c83-8bc5-aaf3fcbe51cf",
   "metadata": {},
   "outputs": [],
   "source": [
    "w2v_model.wv['banco']"
   ]
  },
  {
   "cell_type": "markdown",
   "id": "f8b5b75e-1921-4433-b0a3-1b0bb40e429e",
   "metadata": {},
   "source": [
    "Traemos términos similares al elegido"
   ]
  },
  {
   "cell_type": "code",
   "execution_count": null,
   "id": "cb31a188-17e7-4487-9b2e-d5713bea947a",
   "metadata": {},
   "outputs": [],
   "source": [
    "w2v_model.wv.most_similar('call')"
   ]
  },
  {
   "cell_type": "markdown",
   "id": "0bae14b6",
   "metadata": {},
   "source": [
    "Elaborado por Luis Cajachahua bajo licencia MIT (2022)"
   ]
  }
 ],
 "metadata": {
  "kernelspec": {
   "display_name": "Python 3 (ipykernel)",
   "language": "python",
   "name": "python3"
  },
  "language_info": {
   "codemirror_mode": {
    "name": "ipython",
    "version": 3
   },
   "file_extension": ".py",
   "mimetype": "text/x-python",
   "name": "python",
   "nbconvert_exporter": "python",
   "pygments_lexer": "ipython3",
   "version": "3.9.7"
  }
 },
 "nbformat": 4,
 "nbformat_minor": 5
}
