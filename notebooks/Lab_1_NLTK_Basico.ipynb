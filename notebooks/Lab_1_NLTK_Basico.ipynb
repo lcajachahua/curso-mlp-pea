{
 "cells": [
  {
   "cell_type": "markdown",
   "id": "32d62026-1371-426f-aaa8-acd2374cad91",
   "metadata": {},
   "source": [
    "# Primeros pasos en NLTK"
   ]
  },
  {
   "cell_type": "markdown",
   "id": "a2accacd-4002-45e5-9633-0f49d5dde83e",
   "metadata": {},
   "source": [
    "### Importando la librería NLTK y algunos documentos de ejemplo"
   ]
  },
  {
   "cell_type": "code",
   "execution_count": null,
   "id": "940dfc79-c422-42cd-a2c3-056b218d4d4a",
   "metadata": {},
   "outputs": [],
   "source": [
    "import nltk\n",
    "nltk.download('gutenberg')\n",
    "nltk.download('genesis')\n",
    "nltk.download('inaugural')\n",
    "nltk.download('nps_chat')\n",
    "nltk.download('webtext')\n",
    "nltk.download('treebank')"
   ]
  },
  {
   "cell_type": "code",
   "execution_count": null,
   "id": "bafe5e0c-a0d5-440c-b30a-1fd9d81d7387",
   "metadata": {},
   "outputs": [],
   "source": [
    "from nltk.book import *"
   ]
  },
  {
   "cell_type": "markdown",
   "id": "5cad7bbe-7a9f-40f5-8e90-c9d2a5bd0fbf",
   "metadata": {},
   "source": [
    "### Búqueda de Términos"
   ]
  },
  {
   "cell_type": "code",
   "execution_count": null,
   "id": "e44fab34-b402-40d0-ad28-60d7076669c8",
   "metadata": {},
   "outputs": [],
   "source": [
    "text1.concordance(\"monstrous\")"
   ]
  },
  {
   "cell_type": "markdown",
   "id": "29a97ec3-aaf5-482d-8d10-8c0a1584b7aa",
   "metadata": {},
   "source": [
    "### Dispersión Léxica"
   ]
  },
  {
   "cell_type": "code",
   "execution_count": null,
   "id": "477cb172-0627-43ea-a9d5-e37b8d69456f",
   "metadata": {},
   "outputs": [],
   "source": [
    "text4.dispersion_plot([\"citizens\", \"democracy\", \"freedom\", \"duties\", \"America\"])"
   ]
  },
  {
   "cell_type": "markdown",
   "id": "22b80938-36a1-446e-8583-e5626cf769b8",
   "metadata": {},
   "source": [
    "### Cantidad de términos en un documento"
   ]
  },
  {
   "cell_type": "code",
   "execution_count": null,
   "id": "d1d01079-f0c5-4265-8085-f63b74fb4eb3",
   "metadata": {},
   "outputs": [],
   "source": [
    "len(text3)"
   ]
  },
  {
   "cell_type": "markdown",
   "id": "dc042b51-0fee-4b97-a113-3e74da188659",
   "metadata": {},
   "source": [
    "### Cantidad de términos únicos en un documento"
   ]
  },
  {
   "cell_type": "code",
   "execution_count": null,
   "id": "878a3181-3e5a-47ce-a257-89ab0ece6556",
   "metadata": {},
   "outputs": [],
   "source": [
    "len(set(text3))"
   ]
  },
  {
   "cell_type": "markdown",
   "id": "a3fbd7ba-ff0a-419d-b9d8-bde7245fd240",
   "metadata": {},
   "source": [
    "### Indicador de Diversidad Léxica en los documentos"
   ]
  },
  {
   "cell_type": "code",
   "execution_count": null,
   "id": "3885a732-79e3-4b2f-be48-05c02cc4c6f2",
   "metadata": {},
   "outputs": [],
   "source": [
    "def lexical_diversity(text):\n",
    "    return len(set(text)) / len(text)"
   ]
  },
  {
   "cell_type": "code",
   "execution_count": null,
   "id": "e029d9cc-4ee8-4a0f-9cb0-49c14455afef",
   "metadata": {},
   "outputs": [],
   "source": [
    "lexical_diversity(text1)"
   ]
  },
  {
   "cell_type": "code",
   "execution_count": null,
   "id": "0cbc0981-a19b-4ddd-878b-dd74a1900c6c",
   "metadata": {},
   "outputs": [],
   "source": [
    "lexical_diversity(text2)"
   ]
  },
  {
   "cell_type": "code",
   "execution_count": null,
   "id": "09299eee-473c-41fb-950b-8e16b7d91043",
   "metadata": {},
   "outputs": [],
   "source": [
    "lexical_diversity(text3)"
   ]
  },
  {
   "cell_type": "markdown",
   "id": "d27fb45b-2f5f-4ab2-8228-28056df82b25",
   "metadata": {},
   "source": [
    "### Frecuencias de Términos"
   ]
  },
  {
   "cell_type": "code",
   "execution_count": null,
   "id": "8cd14995-d184-4b55-970e-21a50a49bdbb",
   "metadata": {},
   "outputs": [],
   "source": [
    "fdist1 = FreqDist(text1)\n",
    "print(fdist1)"
   ]
  },
  {
   "cell_type": "markdown",
   "id": "1fefe68d-7ba7-48d6-a382-c86c6a85c018",
   "metadata": {},
   "source": [
    "Podemos listar las 20 más comunes"
   ]
  },
  {
   "cell_type": "code",
   "execution_count": null,
   "id": "208479cf-845f-475a-88e3-32c461ded9cf",
   "metadata": {},
   "outputs": [],
   "source": [
    "fdist1.most_common(20)"
   ]
  },
  {
   "cell_type": "markdown",
   "id": "8491bd18-b647-408d-b92e-f1c7783c16c4",
   "metadata": {},
   "source": [
    "Y buscar la frecuencia de algun término que nos interese"
   ]
  },
  {
   "cell_type": "code",
   "execution_count": null,
   "id": "8141f37a-3bae-4a3d-ba7b-fa7764c5a0b1",
   "metadata": {},
   "outputs": [],
   "source": [
    "fdist1['Captain']"
   ]
  },
  {
   "cell_type": "markdown",
   "id": "e06eea40-ec7c-47d3-af56-b2175850d5a8",
   "metadata": {},
   "source": [
    "Elaborado por Luis Cajachahua bajo licencia MIT (2022)"
   ]
  }
 ],
 "metadata": {
  "kernelspec": {
   "display_name": "Python 3 (ipykernel)",
   "language": "python",
   "name": "python3"
  },
  "language_info": {
   "codemirror_mode": {
    "name": "ipython",
    "version": 3
   },
   "file_extension": ".py",
   "mimetype": "text/x-python",
   "name": "python",
   "nbconvert_exporter": "python",
   "pygments_lexer": "ipython3",
   "version": "3.9.7"
  }
 },
 "nbformat": 4,
 "nbformat_minor": 5
}
