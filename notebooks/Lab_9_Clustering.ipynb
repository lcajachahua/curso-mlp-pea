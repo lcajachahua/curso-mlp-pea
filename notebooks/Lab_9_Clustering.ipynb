{
 "cells": [
  {
   "cell_type": "markdown",
   "id": "64517fc2",
   "metadata": {},
   "source": [
    "# Clustering de Comentarios en Facebook"
   ]
  },
  {
   "cell_type": "markdown",
   "id": "a7d71f0f",
   "metadata": {},
   "source": [
    "## Cargar el archivo\n",
    "Se extrajeron 1,569 comentarios de septiembre y octubre año 2020 en los que se menciona a CitiBanamex"
   ]
  },
  {
   "cell_type": "code",
   "execution_count": null,
   "id": "68915d24-e5ba-4aba-9917-d50fd9412b20",
   "metadata": {},
   "outputs": [],
   "source": [
    "import pandas as pd\n",
    "import numpy as np\n",
    "import re\n",
    "import matplotlib.pyplot as plt\n",
    "from sklearn.decomposition import TruncatedSVD \n",
    "from sklearn.cluster import KMeans\n",
    "from sklearn.feature_extraction.text import TfidfVectorizer\n",
    "import string\n",
    "import nltk\n",
    "from mpl_toolkits.mplot3d import Axes3D\n",
    "from nltk.corpus import stopwords\n",
    "from wordcloud import WordCloud\n",
    "plt.rcParams['figure.figsize'] = (16, 9)\n",
    "#nltk.download('stopwords')\n",
    "#nltk.download('punkt')\n",
    "stop_words_sp = set(stopwords.words('spanish'))"
   ]
  },
  {
   "cell_type": "code",
   "execution_count": null,
   "id": "44286594",
   "metadata": {},
   "outputs": [],
   "source": [
    "df = pd.read_csv('../data/BanamexFace.csv')\n",
    "df.head()"
   ]
  },
  {
   "cell_type": "markdown",
   "id": "71ded9d7",
   "metadata": {},
   "source": [
    "#### Limpieza del texto (puntuación, tokenización y eliminado de stopwords en español)"
   ]
  },
  {
   "cell_type": "code",
   "execution_count": null,
   "id": "4fb37031",
   "metadata": {},
   "outputs": [],
   "source": [
    "def clean_text(text):\n",
    "    text = \"\".join([word.lower() for word in text if word not in string.punctuation])\n",
    "    tokens = re.split('\\W+', text)\n",
    "    text = [word for word in tokens if word not in stop_words_sp]\n",
    "    return text"
   ]
  },
  {
   "cell_type": "markdown",
   "id": "7dbf8154-0dd7-4ac0-a35a-2abec5d4c999",
   "metadata": {},
   "source": [
    "#### Creamos la Matriz Documento-Término (DTM) con puntuaciones TF-IDF"
   ]
  },
  {
   "cell_type": "code",
   "execution_count": null,
   "id": "dd05303d-4d84-49e1-87ee-d718dbc41a7a",
   "metadata": {},
   "outputs": [],
   "source": [
    "tfidf_vect = TfidfVectorizer(analyzer=clean_text)\n",
    "X_tfidf = tfidf_vect.fit_transform(df['com'])"
   ]
  },
  {
   "cell_type": "code",
   "execution_count": null,
   "id": "2e760d37-de57-4e3e-8680-a5e7bf1a511e",
   "metadata": {},
   "outputs": [],
   "source": [
    "X_features = pd.DataFrame(X_tfidf.toarray(), columns=tfidf_vect.get_feature_names())\n",
    "X_features.head()"
   ]
  },
  {
   "cell_type": "code",
   "execution_count": null,
   "id": "31c057f6-1647-4ffd-bb2c-ce671a1b4502",
   "metadata": {},
   "outputs": [],
   "source": [
    "X_features.info()"
   ]
  },
  {
   "cell_type": "markdown",
   "id": "e0e40fcb-a04e-4e83-8a00-f8bf02da3dd5",
   "metadata": {},
   "source": [
    "#### Removemos las columnas de términos redundantes y los que son poco frecuentes"
   ]
  },
  {
   "cell_type": "code",
   "execution_count": null,
   "id": "a1550085-4bce-4c2c-a850-a50636db8b92",
   "metadata": {},
   "outputs": [],
   "source": [
    "column = pd.DataFrame(X_features.sum())\n",
    "column.head()"
   ]
  },
  {
   "cell_type": "code",
   "execution_count": null,
   "id": "39975120-a586-4c68-838d-f784efd86715",
   "metadata": {},
   "outputs": [],
   "source": [
    "X_features.drop(columns=['', 'abierta', 'abren', 'aclarar', 'alta', 'amado', 'amo', 'anualidaaaaaaaaaaaaad', 'anualidades', 'asco', 'audiomático', 'cajeros', 'cambiar', 'casi', 'cdmx', 'cobrando', 'convenio', 'créditos', 'debito', 'deja', 'desparcializar', 'enviar', 'hizo', 'inbox', 'liquidar', 'llega', 'martinez', 'mínimo', 'paso', 'plática', 'presentación', 'pude', 'puedan', 'quieres', 'quiten', 'regresen', 'responder', 'saludos', 'sola', 'sábado', 'targeta', 'tips', 'toño', 'transferir', 'transmisión', 'unan', 'ventanilla', 'viene', 'x'], inplace=True)"
   ]
  },
  {
   "cell_type": "code",
   "execution_count": null,
   "id": "74c20397-7b19-4d31-b82e-497b4fdba347",
   "metadata": {},
   "outputs": [],
   "source": [
    "stop = list(column[column[0]<2].index)"
   ]
  },
  {
   "cell_type": "code",
   "execution_count": null,
   "id": "138784e2-6338-4c80-a671-000f62098929",
   "metadata": {},
   "outputs": [],
   "source": [
    "len(stop)"
   ]
  },
  {
   "cell_type": "code",
   "execution_count": null,
   "id": "809f7571-ab6c-4b51-8a8e-903f9b4beb2b",
   "metadata": {},
   "outputs": [],
   "source": [
    "X_features.drop(columns=stop, inplace=True)"
   ]
  },
  {
   "cell_type": "code",
   "execution_count": null,
   "id": "8ca57fc7-9859-4a03-8e6f-394017a277be",
   "metadata": {},
   "outputs": [],
   "source": [
    "X_features.info()"
   ]
  },
  {
   "cell_type": "markdown",
   "id": "e309a56f-2d53-439f-b76b-e2fdb413f20d",
   "metadata": {},
   "source": [
    "#### Aplicamos la descomposición SVD para poder trabajar con menos variables (10)"
   ]
  },
  {
   "cell_type": "code",
   "execution_count": null,
   "id": "482de7a1-aecc-4872-aeb8-e6130d669a4d",
   "metadata": {},
   "outputs": [],
   "source": [
    "truncatedSVD=TruncatedSVD(10)\n",
    "X_svd = truncatedSVD.fit_transform(X_features)\n",
    "X_svd[:10] "
   ]
  },
  {
   "cell_type": "markdown",
   "id": "f676da78-f01e-4c1d-929b-a359f164f19c",
   "metadata": {},
   "source": [
    "#### Clustering utilizando KMeans"
   ]
  },
  {
   "cell_type": "markdown",
   "id": "da112ffc-4a5a-49ad-960c-94527aa75041",
   "metadata": {},
   "source": [
    "Identificamos la cantidad óptima de clusters"
   ]
  },
  {
   "cell_type": "code",
   "execution_count": null,
   "id": "3dee7df8-9bc5-4d7c-8af7-a1f4f7171595",
   "metadata": {},
   "outputs": [],
   "source": [
    "Nc = range(1, 15)\n",
    "kmeans = [KMeans(n_clusters=i) for i in Nc]\n",
    "kmeans\n",
    "score = [kmeans[i].fit(X_svd).score(X_svd) for i in range(len(kmeans))]\n",
    "score\n",
    "plt.plot(Nc,score)\n",
    "plt.xlabel('Number of Clusters')\n",
    "plt.ylabel('Score')\n",
    "plt.title('Elbow Curve')\n",
    "plt.show()"
   ]
  },
  {
   "cell_type": "markdown",
   "id": "9ad8cb74-a350-43b0-ad22-74e2d7d65681",
   "metadata": {},
   "source": [
    "Generamos los centroides del Cluster"
   ]
  },
  {
   "cell_type": "code",
   "execution_count": null,
   "id": "4aa68566-b233-4a09-9a68-5fcf43a6c00c",
   "metadata": {},
   "outputs": [],
   "source": [
    "kmeans = KMeans(n_clusters=6).fit(X_svd)\n",
    "centroids = kmeans.cluster_centers_\n",
    "print(centroids)"
   ]
  },
  {
   "cell_type": "code",
   "execution_count": null,
   "id": "69f10cbe-91e7-44f3-a72f-dc03d36f5cc4",
   "metadata": {},
   "outputs": [],
   "source": [
    "centroids.shape"
   ]
  },
  {
   "cell_type": "markdown",
   "id": "3eaeb02d-96b6-42f6-9172-51a8eceb419e",
   "metadata": {},
   "source": [
    "#### Visualizando los Clusters"
   ]
  },
  {
   "cell_type": "code",
   "execution_count": null,
   "id": "e38aa62b-229e-4ae5-84b0-45ae19345a3c",
   "metadata": {},
   "outputs": [],
   "source": [
    "labels = kmeans.predict(X_svd)\n",
    "\n",
    "C = kmeans.cluster_centers_\n",
    "colores=['red','green','blue','cyan','yellow','purple']\n",
    "asignar=[]\n",
    "for row in labels:\n",
    "    asignar.append(colores[row])\n",
    "\n",
    "fig = plt.figure()\n",
    "ax = Axes3D(fig)\n",
    "ax.scatter(X_svd[:, 0], X_svd[:, 1], X_svd[:, 2], c=asignar,s=60)\n",
    "ax.scatter(C[:, 0], C[:, 1], C[:, 2], marker='*', c=colores, s=1000)"
   ]
  },
  {
   "cell_type": "markdown",
   "id": "7c81d3c6-55d5-4033-9892-4f6575db19b5",
   "metadata": {},
   "source": [
    "Agregamos la marca de Cluster a cada comentario"
   ]
  },
  {
   "cell_type": "code",
   "execution_count": null,
   "id": "326a618b-c916-41b1-91f3-fb14e5b5abec",
   "metadata": {},
   "outputs": [],
   "source": [
    "df['cluster'] = labels\n",
    "df.head()"
   ]
  },
  {
   "cell_type": "code",
   "execution_count": null,
   "id": "3163f4a5-433d-4be9-91eb-245f0d132421",
   "metadata": {},
   "outputs": [],
   "source": [
    "df.cluster.value_counts()"
   ]
  },
  {
   "cell_type": "markdown",
   "id": "d04e4b77-00e3-47e3-83f0-70b6e95de9f3",
   "metadata": {},
   "source": [
    "Visualizamos wordclouds por cada segmento"
   ]
  },
  {
   "cell_type": "code",
   "execution_count": null,
   "id": "fd209fd4-0a26-48a4-9df2-f2125008cef5",
   "metadata": {},
   "outputs": [],
   "source": [
    "for i in range(6):\n",
    "    text = \" \".join([term.lower() for term in df.com[df['cluster']==i] if term not in stop_words_sp])\n",
    "    plt.figure()\n",
    "    wc= WordCloud(stopwords=stop_words_sp, background_color=\"white\", colormap=\"Dark2\", random_state=6)\n",
    "    wc.generate(text)\n",
    "    plt.imshow(wc)\n",
    "    plt.axis(\"off\")\n",
    "    plt.title(\"Cluster \" + str(i))\n",
    "    plt.show()"
   ]
  },
  {
   "cell_type": "markdown",
   "id": "70a347b3",
   "metadata": {},
   "source": [
    "#### Ahora podemos segmentar nuevos comentarios, utilizando el otro conjunto de datos"
   ]
  },
  {
   "cell_type": "code",
   "execution_count": null,
   "id": "83920e28",
   "metadata": {},
   "outputs": [],
   "source": [
    "dfs = pd.read_csv('../data/BanamexFaceNew.csv')\n",
    "dfs.head()"
   ]
  },
  {
   "cell_type": "markdown",
   "id": "c97e9afe",
   "metadata": {},
   "source": [
    "Preparar los datos"
   ]
  },
  {
   "cell_type": "code",
   "execution_count": null,
   "id": "683ceeb2",
   "metadata": {},
   "outputs": [],
   "source": [
    "tfidf_vect = TfidfVectorizer(analyzer=clean_text)\n",
    "S_tfidf = tfidf_vect.fit_transform(dfs['com'])"
   ]
  },
  {
   "cell_type": "code",
   "execution_count": null,
   "id": "d36ae6a0",
   "metadata": {},
   "outputs": [],
   "source": [
    "S_features = pd.DataFrame(S_tfidf.toarray(), columns=tfidf_vect.get_feature_names())\n",
    "S_features = S_features[X_features.columns]\n",
    "S_features.info()"
   ]
  },
  {
   "cell_type": "markdown",
   "id": "c17f4889-dd27-433a-b3ff-d519993076c3",
   "metadata": {},
   "source": [
    "Aplicamos la misma reducción de dimensionalidad con SVD"
   ]
  },
  {
   "cell_type": "code",
   "execution_count": null,
   "id": "ec84b7ea-d30a-4c9f-acfa-bb8f4baf97f1",
   "metadata": {},
   "outputs": [],
   "source": [
    "XS_svd = truncatedSVD.fit_transform(S_features)"
   ]
  },
  {
   "cell_type": "markdown",
   "id": "b8e2239e-d7cd-4730-95d6-7f89a227a6bb",
   "metadata": {},
   "source": [
    "Aplicamos el modelo"
   ]
  },
  {
   "cell_type": "code",
   "execution_count": null,
   "id": "726ad9ff-325d-49f8-bf6f-aca6ee9559d4",
   "metadata": {},
   "outputs": [],
   "source": [
    "slabels = kmeans.predict(XS_svd)\n",
    "dfs['cluster'] = slabels\n",
    "dfs.head(20)"
   ]
  },
  {
   "cell_type": "code",
   "execution_count": null,
   "id": "6a2dc054-7da1-4df6-9aa7-a45174ac4238",
   "metadata": {},
   "outputs": [],
   "source": [
    "dfs.cluster.value_counts()"
   ]
  },
  {
   "cell_type": "markdown",
   "id": "0bae14b6",
   "metadata": {},
   "source": [
    "Elaborado por Luis Cajachahua bajo licencia MIT (2022)"
   ]
  }
 ],
 "metadata": {
  "kernelspec": {
   "display_name": "Python 3 (ipykernel)",
   "language": "python",
   "name": "python3"
  },
  "language_info": {
   "codemirror_mode": {
    "name": "ipython",
    "version": 3
   },
   "file_extension": ".py",
   "mimetype": "text/x-python",
   "name": "python",
   "nbconvert_exporter": "python",
   "pygments_lexer": "ipython3",
   "version": "3.9.7"
  }
 },
 "nbformat": 4,
 "nbformat_minor": 5
}
