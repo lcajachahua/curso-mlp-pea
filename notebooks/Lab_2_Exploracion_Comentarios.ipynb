{
 "cells": [
  {
   "cell_type": "markdown",
   "id": "64517fc2",
   "metadata": {},
   "source": [
    "# Análisis Exploratorio de Comentarios de Facebook"
   ]
  },
  {
   "cell_type": "markdown",
   "id": "a7d71f0f",
   "metadata": {},
   "source": [
    "## Cargar el archivo\n",
    "Se extrajeron 1,569 comentarios de septiembre y octubre año 2020 en los que se menciona a CitiBanamex\n"
   ]
  },
  {
   "cell_type": "code",
   "execution_count": null,
   "id": "68915d24-e5ba-4aba-9917-d50fd9412b20",
   "metadata": {},
   "outputs": [],
   "source": [
    "import pandas as pd\n",
    "import numpy as np \n",
    "import matplotlib.pyplot as plt\n",
    "from sklearn.feature_extraction.text import CountVectorizer\n",
    "from nltk.corpus import stopwords\n",
    "import string\n",
    "import re\n",
    "import nltk\n",
    "stop_words_sp = set(stopwords.words('spanish'))"
   ]
  },
  {
   "cell_type": "code",
   "execution_count": null,
   "id": "86bc81aa-abc8-4de3-8325-8171005fe71c",
   "metadata": {},
   "outputs": [],
   "source": [
    "#nltk.download('stopwords')\n",
    "#nltk.download('punkt')"
   ]
  },
  {
   "cell_type": "code",
   "execution_count": null,
   "id": "44286594",
   "metadata": {},
   "outputs": [],
   "source": [
    "df = pd.read_csv('../data/BanamexFace.csv')\n",
    "df.head()"
   ]
  },
  {
   "cell_type": "markdown",
   "id": "f0b837d3-541f-4a84-a145-d74f81e9832d",
   "metadata": {},
   "source": [
    "### Removiendo los signos de puntuación"
   ]
  },
  {
   "cell_type": "code",
   "execution_count": null,
   "id": "c48ba061-4320-45ac-a04a-730274822955",
   "metadata": {},
   "outputs": [],
   "source": [
    "def remove_punct(text):\n",
    "    text = \"\".join([char for char in text if char not in string.punctuation])\n",
    "    return text"
   ]
  },
  {
   "cell_type": "code",
   "execution_count": null,
   "id": "6a928055-9492-4424-a74b-2a64c745d829",
   "metadata": {},
   "outputs": [],
   "source": [
    "df['com'] = df['com'].apply(lambda x: remove_punct(x))\n",
    "df.head()"
   ]
  },
  {
   "cell_type": "markdown",
   "id": "71ded9d7",
   "metadata": {},
   "source": [
    "### Unimos todos los comentarios en un documento único"
   ]
  },
  {
   "cell_type": "code",
   "execution_count": null,
   "id": "7d30a9da-b279-4d7c-8fc7-9f3662d251c2",
   "metadata": {},
   "outputs": [],
   "source": [
    "text = \" \".join([term.lower() for term in df.com if term not in stop_words_sp])"
   ]
  },
  {
   "cell_type": "code",
   "execution_count": null,
   "id": "bcfb9f08-d08f-4485-af53-c963aa1060f9",
   "metadata": {},
   "outputs": [],
   "source": [
    "import wordcloud\n",
    "from wordcloud import WordCloud\n",
    "wc= WordCloud(max_words=100, stopwords=stop_words_sp,\n",
    "              background_color=\"white\", colormap=\"Dark2\",\n",
    "              max_font_size=50, random_state=6)\n",
    "\n",
    "plt.figure(figsize=(16, 9))\n",
    "wc.generate(text)\n",
    "plt.imshow(wc)\n",
    "plt.axis(\"off\")\n",
    "plt.show()"
   ]
  },
  {
   "cell_type": "markdown",
   "id": "d021f412-55fc-4bc4-85e7-607999be3a13",
   "metadata": {},
   "source": [
    "### Agregamos un Diagrama de Barras para una mejor representación"
   ]
  },
  {
   "cell_type": "code",
   "execution_count": null,
   "id": "74801250-0128-429c-bcbc-626c286d5d97",
   "metadata": {},
   "outputs": [],
   "source": [
    "from nltk.tokenize import word_tokenize\n",
    "fdist = nltk.FreqDist(word.lower() for word in word_tokenize(text) if word not in stop_words_sp)"
   ]
  },
  {
   "cell_type": "code",
   "execution_count": null,
   "id": "570de682-86ef-46bd-b658-6e128581ac52",
   "metadata": {},
   "outputs": [],
   "source": [
    "y = list(range(20))\n",
    "top_words, counts = zip(*fdist.most_common(20))\n",
    "plt.figure(figsize=(16, 9))\n",
    "plt.barh(y, counts)\n",
    "plt.yticks(y, top_words)\n",
    "plt.show()"
   ]
  },
  {
   "cell_type": "markdown",
   "id": "0bae14b6",
   "metadata": {},
   "source": [
    "Elaborado por Luis Cajachahua bajo licencia MIT (2022)"
   ]
  }
 ],
 "metadata": {
  "kernelspec": {
   "display_name": "Python 3 (ipykernel)",
   "language": "python",
   "name": "python3"
  },
  "language_info": {
   "codemirror_mode": {
    "name": "ipython",
    "version": 3
   },
   "file_extension": ".py",
   "mimetype": "text/x-python",
   "name": "python",
   "nbconvert_exporter": "python",
   "pygments_lexer": "ipython3",
   "version": "3.9.7"
  }
 },
 "nbformat": 4,
 "nbformat_minor": 5
}
